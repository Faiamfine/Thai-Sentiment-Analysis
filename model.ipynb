{
  "cells": [
    {
      "cell_type": "markdown",
      "metadata": {
        "id": "KqDLjDRxCvZL"
      },
      "source": [
        "**Input:** Text\n",
        "\n",
        "**Output:** Sentiment Label [0, 1, 2]\n",
        "\n",
        "- **0:** Negative Sentiment\n",
        "- **1:** Neutral Sentiment\n",
        "- **2:** Positive Sentiment"
      ]
    },
    {
      "cell_type": "code",
      "execution_count": 4,
      "metadata": {
        "id": "qAYuapo_Wrn5"
      },
      "outputs": [],
      "source": [
        "import numpy as np\n",
        "import pandas as pd\n",
        "\n",
        "from pythainlp import word_tokenize\n",
        "\n",
        "from keras import regularizers\n",
        "from keras import backend as K\n",
        "from keras.models import Sequential\n",
        "from tensorflow.keras.optimizers import Adam\n",
        "from sklearn.preprocessing import LabelEncoder\n",
        "from sklearn.model_selection import train_test_split\n",
        "\n",
        "from tensorflow.keras.regularizers import l2\n",
        "from tensorflow.keras.utils import to_categorical\n",
        "from keras.preprocessing.sequence import pad_sequences\n",
        "from tensorflow.keras.optimizers.schedules import ExponentialDecay\n",
        "from tensorflow.keras.layers import Embedding, Bidirectional, LSTM, Dense, BatchNormalization, SpatialDropout1D, Dropout\n",
        "\n",
        "from keras.callbacks import EarlyStopping\n",
        "from sklearn.preprocessing import LabelEncoder\n",
        "from sklearn.utils.class_weight import compute_class_weight\n",
        "\n",
        "import seaborn as sns\n",
        "import matplotlib.pyplot as plt\n",
        "from sklearn.metrics import classification_report, confusion_matrix"
      ]
    },
    {
      "cell_type": "code",
      "execution_count": 5,
      "metadata": {
        "id": "fkPYrwO0Wrn7"
      },
      "outputs": [],
      "source": [
        "train_df = pd.read_csv('train.csv')\n"
      ]
    },
    {
      "cell_type": "markdown",
      "metadata": {
        "id": "rcCIAXstIlPX"
      },
      "source": [
        "## **Preprocess**\n"
      ]
    },
    {
      "cell_type": "code",
      "source": [
        "train_df['length'] = train_df['texts'].apply(word_tokenize).apply(len)\n",
        "train_df = train_df[train_df['length'] < train_df['length'].quantile(0.95)]\n",
        "train_df = train_df[train_df['length'] >= train_df['length'].quantile(0.05)]"
      ],
      "metadata": {
        "id": "ttFF0Aj7gfod"
      },
      "execution_count": 6,
      "outputs": []
    },
    {
      "cell_type": "code",
      "execution_count": 7,
      "metadata": {
        "colab": {
          "base_uri": "https://localhost:8080/"
        },
        "id": "uY1Mjv6QG8GB",
        "outputId": "e1c22d92-c69e-4e47-b3fd-128603bd174e"
      },
      "outputs": [
        {
          "output_type": "execute_result",
          "data": {
            "text/plain": [
              "neu    11886\n",
              "neg     5984\n",
              "pos     4100\n",
              "Name: category, dtype: int64"
            ]
          },
          "metadata": {},
          "execution_count": 7
        }
      ],
      "source": [
        "train_df.category.value_counts()"
      ]
    },
    {
      "cell_type": "code",
      "execution_count": 8,
      "metadata": {
        "colab": {
          "base_uri": "https://localhost:8080/"
        },
        "id": "bhXT9x6AG9xw",
        "outputId": "ae1abd4c-00cf-43d5-dda9-f12151530fcf"
      },
      "outputs": [
        {
          "output_type": "execute_result",
          "data": {
            "text/plain": [
              "['neg', 'neu', 'pos']"
            ]
          },
          "metadata": {},
          "execution_count": 8
        }
      ],
      "source": [
        "class_names = np.unique(train_df.category).tolist()\n",
        "class_names"
      ]
    },
    {
      "cell_type": "code",
      "execution_count": 9,
      "metadata": {
        "colab": {
          "base_uri": "https://localhost:8080/",
          "height": 206
        },
        "id": "WrAZPszXWrn8",
        "outputId": "f69f1a02-ced3-4180-c61a-578955027a80"
      },
      "outputs": [
        {
          "output_type": "execute_result",
          "data": {
            "text/plain": [
              "      category                                              texts  length\n",
              "4392       pos  เอาข่าว เมื่อไร บาบีคิว พลาซ่าจะมี บุฟเฟ่. ......      18\n",
              "20368      neu  สินค้า เรฟลอน โฟโต้เรดดี้ แอร์ บลัช เอฟเฟ็ค เม...      53\n",
              "9514       neu               ขอเลยเหรออออ 55555 ดูคุณเเอนหิววเนอะ      15\n",
              "6155       neu  😝😝😝จะเอาตัวไหน ให้ได้ 2 ตัว ทุกตัวคงไม่ไหว หน้...      22\n",
              "19013      neg  เราใช้วีออส รุ่นเดียวปีเดียวกับคันที่โพส เติม3...      64"
            ],
            "text/html": [
              "\n",
              "  <div id=\"df-21af68c4-e70d-445b-aaa1-aae5e5452897\" class=\"colab-df-container\">\n",
              "    <div>\n",
              "<style scoped>\n",
              "    .dataframe tbody tr th:only-of-type {\n",
              "        vertical-align: middle;\n",
              "    }\n",
              "\n",
              "    .dataframe tbody tr th {\n",
              "        vertical-align: top;\n",
              "    }\n",
              "\n",
              "    .dataframe thead th {\n",
              "        text-align: right;\n",
              "    }\n",
              "</style>\n",
              "<table border=\"1\" class=\"dataframe\">\n",
              "  <thead>\n",
              "    <tr style=\"text-align: right;\">\n",
              "      <th></th>\n",
              "      <th>category</th>\n",
              "      <th>texts</th>\n",
              "      <th>length</th>\n",
              "    </tr>\n",
              "  </thead>\n",
              "  <tbody>\n",
              "    <tr>\n",
              "      <th>4392</th>\n",
              "      <td>pos</td>\n",
              "      <td>เอาข่าว เมื่อไร บาบีคิว พลาซ่าจะมี บุฟเฟ่. ......</td>\n",
              "      <td>18</td>\n",
              "    </tr>\n",
              "    <tr>\n",
              "      <th>20368</th>\n",
              "      <td>neu</td>\n",
              "      <td>สินค้า เรฟลอน โฟโต้เรดดี้ แอร์ บลัช เอฟเฟ็ค เม...</td>\n",
              "      <td>53</td>\n",
              "    </tr>\n",
              "    <tr>\n",
              "      <th>9514</th>\n",
              "      <td>neu</td>\n",
              "      <td>ขอเลยเหรออออ 55555 ดูคุณเเอนหิววเนอะ</td>\n",
              "      <td>15</td>\n",
              "    </tr>\n",
              "    <tr>\n",
              "      <th>6155</th>\n",
              "      <td>neu</td>\n",
              "      <td>😝😝😝จะเอาตัวไหน ให้ได้ 2 ตัว ทุกตัวคงไม่ไหว หน้...</td>\n",
              "      <td>22</td>\n",
              "    </tr>\n",
              "    <tr>\n",
              "      <th>19013</th>\n",
              "      <td>neg</td>\n",
              "      <td>เราใช้วีออส รุ่นเดียวปีเดียวกับคันที่โพส เติม3...</td>\n",
              "      <td>64</td>\n",
              "    </tr>\n",
              "  </tbody>\n",
              "</table>\n",
              "</div>\n",
              "    <div class=\"colab-df-buttons\">\n",
              "\n",
              "  <div class=\"colab-df-container\">\n",
              "    <button class=\"colab-df-convert\" onclick=\"convertToInteractive('df-21af68c4-e70d-445b-aaa1-aae5e5452897')\"\n",
              "            title=\"Convert this dataframe to an interactive table.\"\n",
              "            style=\"display:none;\">\n",
              "\n",
              "  <svg xmlns=\"http://www.w3.org/2000/svg\" height=\"24px\" viewBox=\"0 -960 960 960\">\n",
              "    <path d=\"M120-120v-720h720v720H120Zm60-500h600v-160H180v160Zm220 220h160v-160H400v160Zm0 220h160v-160H400v160ZM180-400h160v-160H180v160Zm440 0h160v-160H620v160ZM180-180h160v-160H180v160Zm440 0h160v-160H620v160Z\"/>\n",
              "  </svg>\n",
              "    </button>\n",
              "\n",
              "  <style>\n",
              "    .colab-df-container {\n",
              "      display:flex;\n",
              "      gap: 12px;\n",
              "    }\n",
              "\n",
              "    .colab-df-convert {\n",
              "      background-color: #E8F0FE;\n",
              "      border: none;\n",
              "      border-radius: 50%;\n",
              "      cursor: pointer;\n",
              "      display: none;\n",
              "      fill: #1967D2;\n",
              "      height: 32px;\n",
              "      padding: 0 0 0 0;\n",
              "      width: 32px;\n",
              "    }\n",
              "\n",
              "    .colab-df-convert:hover {\n",
              "      background-color: #E2EBFA;\n",
              "      box-shadow: 0px 1px 2px rgba(60, 64, 67, 0.3), 0px 1px 3px 1px rgba(60, 64, 67, 0.15);\n",
              "      fill: #174EA6;\n",
              "    }\n",
              "\n",
              "    .colab-df-buttons div {\n",
              "      margin-bottom: 4px;\n",
              "    }\n",
              "\n",
              "    [theme=dark] .colab-df-convert {\n",
              "      background-color: #3B4455;\n",
              "      fill: #D2E3FC;\n",
              "    }\n",
              "\n",
              "    [theme=dark] .colab-df-convert:hover {\n",
              "      background-color: #434B5C;\n",
              "      box-shadow: 0px 1px 3px 1px rgba(0, 0, 0, 0.15);\n",
              "      filter: drop-shadow(0px 1px 2px rgba(0, 0, 0, 0.3));\n",
              "      fill: #FFFFFF;\n",
              "    }\n",
              "  </style>\n",
              "\n",
              "    <script>\n",
              "      const buttonEl =\n",
              "        document.querySelector('#df-21af68c4-e70d-445b-aaa1-aae5e5452897 button.colab-df-convert');\n",
              "      buttonEl.style.display =\n",
              "        google.colab.kernel.accessAllowed ? 'block' : 'none';\n",
              "\n",
              "      async function convertToInteractive(key) {\n",
              "        const element = document.querySelector('#df-21af68c4-e70d-445b-aaa1-aae5e5452897');\n",
              "        const dataTable =\n",
              "          await google.colab.kernel.invokeFunction('convertToInteractive',\n",
              "                                                    [key], {});\n",
              "        if (!dataTable) return;\n",
              "\n",
              "        const docLinkHtml = 'Like what you see? Visit the ' +\n",
              "          '<a target=\"_blank\" href=https://colab.research.google.com/notebooks/data_table.ipynb>data table notebook</a>'\n",
              "          + ' to learn more about interactive tables.';\n",
              "        element.innerHTML = '';\n",
              "        dataTable['output_type'] = 'display_data';\n",
              "        await google.colab.output.renderOutput(dataTable, element);\n",
              "        const docLink = document.createElement('div');\n",
              "        docLink.innerHTML = docLinkHtml;\n",
              "        element.appendChild(docLink);\n",
              "      }\n",
              "    </script>\n",
              "  </div>\n",
              "\n",
              "\n",
              "<div id=\"df-2c304bec-22f5-4b7a-a8c2-8a0b113b9b2f\">\n",
              "  <button class=\"colab-df-quickchart\" onclick=\"quickchart('df-2c304bec-22f5-4b7a-a8c2-8a0b113b9b2f')\"\n",
              "            title=\"Suggest charts\"\n",
              "            style=\"display:none;\">\n",
              "\n",
              "<svg xmlns=\"http://www.w3.org/2000/svg\" height=\"24px\"viewBox=\"0 0 24 24\"\n",
              "     width=\"24px\">\n",
              "    <g>\n",
              "        <path d=\"M19 3H5c-1.1 0-2 .9-2 2v14c0 1.1.9 2 2 2h14c1.1 0 2-.9 2-2V5c0-1.1-.9-2-2-2zM9 17H7v-7h2v7zm4 0h-2V7h2v10zm4 0h-2v-4h2v4z\"/>\n",
              "    </g>\n",
              "</svg>\n",
              "  </button>\n",
              "\n",
              "<style>\n",
              "  .colab-df-quickchart {\n",
              "      --bg-color: #E8F0FE;\n",
              "      --fill-color: #1967D2;\n",
              "      --hover-bg-color: #E2EBFA;\n",
              "      --hover-fill-color: #174EA6;\n",
              "      --disabled-fill-color: #AAA;\n",
              "      --disabled-bg-color: #DDD;\n",
              "  }\n",
              "\n",
              "  [theme=dark] .colab-df-quickchart {\n",
              "      --bg-color: #3B4455;\n",
              "      --fill-color: #D2E3FC;\n",
              "      --hover-bg-color: #434B5C;\n",
              "      --hover-fill-color: #FFFFFF;\n",
              "      --disabled-bg-color: #3B4455;\n",
              "      --disabled-fill-color: #666;\n",
              "  }\n",
              "\n",
              "  .colab-df-quickchart {\n",
              "    background-color: var(--bg-color);\n",
              "    border: none;\n",
              "    border-radius: 50%;\n",
              "    cursor: pointer;\n",
              "    display: none;\n",
              "    fill: var(--fill-color);\n",
              "    height: 32px;\n",
              "    padding: 0;\n",
              "    width: 32px;\n",
              "  }\n",
              "\n",
              "  .colab-df-quickchart:hover {\n",
              "    background-color: var(--hover-bg-color);\n",
              "    box-shadow: 0 1px 2px rgba(60, 64, 67, 0.3), 0 1px 3px 1px rgba(60, 64, 67, 0.15);\n",
              "    fill: var(--button-hover-fill-color);\n",
              "  }\n",
              "\n",
              "  .colab-df-quickchart-complete:disabled,\n",
              "  .colab-df-quickchart-complete:disabled:hover {\n",
              "    background-color: var(--disabled-bg-color);\n",
              "    fill: var(--disabled-fill-color);\n",
              "    box-shadow: none;\n",
              "  }\n",
              "\n",
              "  .colab-df-spinner {\n",
              "    border: 2px solid var(--fill-color);\n",
              "    border-color: transparent;\n",
              "    border-bottom-color: var(--fill-color);\n",
              "    animation:\n",
              "      spin 1s steps(1) infinite;\n",
              "  }\n",
              "\n",
              "  @keyframes spin {\n",
              "    0% {\n",
              "      border-color: transparent;\n",
              "      border-bottom-color: var(--fill-color);\n",
              "      border-left-color: var(--fill-color);\n",
              "    }\n",
              "    20% {\n",
              "      border-color: transparent;\n",
              "      border-left-color: var(--fill-color);\n",
              "      border-top-color: var(--fill-color);\n",
              "    }\n",
              "    30% {\n",
              "      border-color: transparent;\n",
              "      border-left-color: var(--fill-color);\n",
              "      border-top-color: var(--fill-color);\n",
              "      border-right-color: var(--fill-color);\n",
              "    }\n",
              "    40% {\n",
              "      border-color: transparent;\n",
              "      border-right-color: var(--fill-color);\n",
              "      border-top-color: var(--fill-color);\n",
              "    }\n",
              "    60% {\n",
              "      border-color: transparent;\n",
              "      border-right-color: var(--fill-color);\n",
              "    }\n",
              "    80% {\n",
              "      border-color: transparent;\n",
              "      border-right-color: var(--fill-color);\n",
              "      border-bottom-color: var(--fill-color);\n",
              "    }\n",
              "    90% {\n",
              "      border-color: transparent;\n",
              "      border-bottom-color: var(--fill-color);\n",
              "    }\n",
              "  }\n",
              "</style>\n",
              "\n",
              "  <script>\n",
              "    async function quickchart(key) {\n",
              "      const quickchartButtonEl =\n",
              "        document.querySelector('#' + key + ' button');\n",
              "      quickchartButtonEl.disabled = true;  // To prevent multiple clicks.\n",
              "      quickchartButtonEl.classList.add('colab-df-spinner');\n",
              "      try {\n",
              "        const charts = await google.colab.kernel.invokeFunction(\n",
              "            'suggestCharts', [key], {});\n",
              "      } catch (error) {\n",
              "        console.error('Error during call to suggestCharts:', error);\n",
              "      }\n",
              "      quickchartButtonEl.classList.remove('colab-df-spinner');\n",
              "      quickchartButtonEl.classList.add('colab-df-quickchart-complete');\n",
              "    }\n",
              "    (() => {\n",
              "      let quickchartButtonEl =\n",
              "        document.querySelector('#df-2c304bec-22f5-4b7a-a8c2-8a0b113b9b2f button');\n",
              "      quickchartButtonEl.style.display =\n",
              "        google.colab.kernel.accessAllowed ? 'block' : 'none';\n",
              "    })();\n",
              "  </script>\n",
              "</div>\n",
              "    </div>\n",
              "  </div>\n"
            ]
          },
          "metadata": {},
          "execution_count": 9
        }
      ],
      "source": [
        "train_df.sample(n=5)"
      ]
    },
    {
      "cell_type": "code",
      "execution_count": 10,
      "metadata": {
        "id": "4J-2oigNWrn9"
      },
      "outputs": [],
      "source": [
        "def recall_m(y_true, y_pred):\n",
        "    true_positives = K.sum(K.round(K.clip(y_true * y_pred, 0, 1)))\n",
        "    possible_positives = K.sum(K.round(K.clip(y_true, 0, 1)))\n",
        "    recall = true_positives / (possible_positives + K.epsilon())\n",
        "    return recall\n",
        "\n",
        "def precision_m(y_true, y_pred):\n",
        "    true_positives = K.sum(K.round(K.clip(y_true * y_pred, 0, 1)))\n",
        "    predicted_positives = K.sum(K.round(K.clip(y_pred, 0, 1)))\n",
        "    precision = true_positives / (predicted_positives + K.epsilon())\n",
        "    return precision\n",
        "\n",
        "def f1_m(y_true, y_pred):\n",
        "    precision = precision_m(y_true, y_pred)\n",
        "    recall = recall_m(y_true, y_pred)\n",
        "    return 2*((precision*recall)/(precision+recall+K.epsilon()))"
      ]
    },
    {
      "cell_type": "markdown",
      "metadata": {
        "id": "wiOA53MC3h-7"
      },
      "source": [
        "#### Tokenizer\n",
        "Before training, I converted text to numbers because models learn only from numerical. Breaking down long sentences into individual words   simplify the learning process of the model\n"
      ]
    },
    {
      "cell_type": "markdown",
      "metadata": {
        "id": "4Go3pwPDR4We"
      },
      "source": [
        "for example"
      ]
    },
    {
      "cell_type": "code",
      "execution_count": 11,
      "metadata": {
        "colab": {
          "base_uri": "https://localhost:8080/"
        },
        "id": "5ldbd7IUR8lT",
        "outputId": "cec0f419-9085-474d-8176-7c562f6aa342"
      },
      "outputs": [
        {
          "output_type": "execute_result",
          "data": {
            "text/plain": [
              "['ประเทศ',\n",
              " 'เรา',\n",
              " 'ผลิต',\n",
              " 'และ',\n",
              " 'ส่งออก',\n",
              " 'ยาสูบ',\n",
              " 'เยอะ',\n",
              " 'สุด',\n",
              " 'ใน',\n",
              " 'โลก',\n",
              " 'จิง',\n",
              " 'ป่าว',\n",
              " 'คับ']"
            ]
          },
          "metadata": {},
          "execution_count": 11
        }
      ],
      "source": [
        "train_df['texts'][0]\n",
        "word_tokenize(train_df['texts'][0])"
      ]
    },
    {
      "cell_type": "code",
      "execution_count": 12,
      "metadata": {
        "colab": {
          "base_uri": "https://localhost:8080/"
        },
        "id": "-T2qkSErSNnX",
        "outputId": "d54e0fb6-e03d-41ae-e27f-40dbd6384521"
      },
      "outputs": [
        {
          "output_type": "stream",
          "name": "stdout",
          "text": [
            "Maximum Sequence Length: 99\n"
          ]
        }
      ],
      "source": [
        "# Tokenize using pythainlp\n",
        "train_df['tokenized_texts'] = train_df['texts'].apply(word_tokenize)\n",
        "\n",
        "# Create a dictionary mapping words to unique integer indices\n",
        "word_index = {}\n",
        "for words_list in train_df['tokenized_texts']:\n",
        "    for word in words_list:\n",
        "        if word not in word_index:\n",
        "            word_index[word] = len(word_index) + 1  # Start indexing from 1\n",
        "\n",
        "# Convert the text sequences to integer sequences based on the word_index\n",
        "train_df['sequences'] = train_df['tokenized_texts'].apply(lambda words_list: [word_index[word] for word in words_list])\n",
        "\n",
        "# Get the maximum sequence length\n",
        "max_length = max(len(sequence) for sequence in train_df['sequences'])\n",
        "print(\"Maximum Sequence Length:\", max_length)"
      ]
    },
    {
      "cell_type": "markdown",
      "metadata": {
        "id": "-4m1KjYVSSFo"
      },
      "source": [
        "### Padding sequence\n",
        "\n",
        "<li> help us receive input text sentences with different range for training with neural network that have to fixed size input by multiplying input method like zero padding\n"
      ]
    },
    {
      "cell_type": "markdown",
      "metadata": {
        "id": "-b1c1QoXSdP9"
      },
      "source": [
        "for example"
      ]
    },
    {
      "cell_type": "markdown",
      "metadata": {
        "id": "RuB_k_s2Si3p"
      },
      "source": [
        "Original Sequence 1: `[1, 2, 3]` | Padded Sequence 1: `[0, 1, 2, 3]`\n",
        "\n",
        "Original Sequence 2: `[4, 5]` | Padded Sequence 2: `[0, 0, 4, 5]`\n",
        "\n"
      ]
    },
    {
      "cell_type": "code",
      "execution_count": 13,
      "metadata": {
        "colab": {
          "base_uri": "https://localhost:8080/"
        },
        "id": "9txabGTFRgs3",
        "outputId": "96b78b2a-28cd-4b08-d1fc-cf33bca4d956"
      },
      "outputs": [
        {
          "output_type": "execute_result",
          "data": {
            "text/plain": [
              "array([ 0,  0,  0,  0,  0,  0,  0,  0,  0,  0,  0,  0,  0,  0,  0,  0,  0,\n",
              "        0,  0,  0,  0,  0,  0,  0,  0,  0,  0,  0,  0,  0,  0,  0,  0,  0,\n",
              "        0,  0,  0,  0,  0,  0,  0,  0,  0,  0,  0,  0,  0,  0,  0,  0,  0,\n",
              "        0,  0,  0,  0,  0,  0,  0,  0,  0,  0,  0,  0,  0,  0,  0,  0,  0,\n",
              "        0,  0,  0,  0,  0,  0,  0,  0,  0,  0,  0,  0,  0,  0,  0,  0,  0,\n",
              "        0,  1,  2,  3,  4,  5,  6,  7,  8,  9, 10, 11, 12, 13],\n",
              "      dtype=int32)"
            ]
          },
          "metadata": {},
          "execution_count": 13
        }
      ],
      "source": [
        "# Padding sequences\n",
        "X = pad_sequences(train_df['sequences'], maxlen=max_length)\n",
        "X[0]"
      ]
    },
    {
      "cell_type": "code",
      "source": [
        "X.shape"
      ],
      "metadata": {
        "colab": {
          "base_uri": "https://localhost:8080/"
        },
        "id": "3I-aBv1qgqpU",
        "outputId": "81502dd3-208d-4003-dbc6-8c12be471379"
      },
      "execution_count": 14,
      "outputs": [
        {
          "output_type": "execute_result",
          "data": {
            "text/plain": [
              "(21970, 99)"
            ]
          },
          "metadata": {},
          "execution_count": 14
        }
      ]
    },
    {
      "cell_type": "code",
      "source": [
        "label_mapping = {'neg': 0, 'neu': 1, 'pos': 2}\n",
        "y_num = train_df['category'].map(label_mapping)"
      ],
      "metadata": {
        "id": "FEdUMDsYiVRh"
      },
      "execution_count": 15,
      "outputs": []
    },
    {
      "cell_type": "code",
      "source": [
        "train_df['labels'] = train_df['category'].map(label_mapping)\n",
        "print(train_df[['labels', 'texts']])\n"
      ],
      "metadata": {
        "colab": {
          "base_uri": "https://localhost:8080/"
        },
        "id": "iTiB1rjeI1za",
        "outputId": "02798819-4613-4a30-c522-da434471bf05"
      },
      "execution_count": 16,
      "outputs": [
        {
          "output_type": "stream",
          "name": "stdout",
          "text": [
            "       labels                                              texts\n",
            "0           1  ประเทศเราผลิตและส่งออกยาสูบเยอะสุดในโลกจิงป่าวคับ\n",
            "2           0                        อิเหี้ยออมทำกูอยากกินเอ็มเค\n",
            "4           1                            สวัสดีวันพุธ แนน อะไรนะ\n",
            "5           1  ก้อนขอบพระคุณมากๆนะคร้าบ ที่มาหาก้อนและชมเชยกา...\n",
            "7           1                                 ปากแดงกินฟรีค่ะ 😬😬\n",
            "...       ...                                                ...\n",
            "23540       0                                     แม่งควายล้วนนน\n",
            "23541       0                   ดอยสุเทพน้องง ไปหมดแล้วววว #pm25\n",
            "23542       0                           ค่าชุดอาจจะแพงกว่าส่วนลด\n",
            "23543       1                              รัฐต้องการแค่ภาษีครับ\n",
            "23544       1  ™ ได้พัฒนาระบบเข้าสู่รุ่นที่สองแล้ว มาดูกันสิว...\n",
            "\n",
            "[21970 rows x 2 columns]\n"
          ]
        }
      ]
    },
    {
      "cell_type": "code",
      "source": [
        "np.unique(y_num)"
      ],
      "metadata": {
        "colab": {
          "base_uri": "https://localhost:8080/"
        },
        "id": "n-u2tPxAoJhK",
        "outputId": "2e28e6b0-025d-4c4c-c261-0d4980fdab83"
      },
      "execution_count": 17,
      "outputs": [
        {
          "output_type": "execute_result",
          "data": {
            "text/plain": [
              "array([0, 1, 2])"
            ]
          },
          "metadata": {},
          "execution_count": 17
        }
      ]
    },
    {
      "cell_type": "markdown",
      "metadata": {
        "id": "5X9r4w3ERgs3"
      },
      "source": [
        "For the process of changing numerical labels to one-hot vectors:\n",
        "\n",
        "1. Utilize `to_categorical` to convert numerical labels to one-hot encoded vectors.\n",
        "2. For instance:\n",
        "   - 'positive' is represented as [0, 0, 1]\n",
        "   - 'negative' is represented as [1, 0, 0]\n",
        "   - 'neutral' is represented as [0, 1, 0]"
      ]
    },
    {
      "cell_type": "code",
      "execution_count": 18,
      "metadata": {
        "colab": {
          "base_uri": "https://localhost:8080/"
        },
        "id": "m2kQLm3Y_b3e",
        "outputId": "ffff0d92-cba2-4b93-a6eb-c875f5563754"
      },
      "outputs": [
        {
          "output_type": "stream",
          "name": "stdout",
          "text": [
            "Vocabulary size: 23825\n"
          ]
        }
      ],
      "source": [
        "y = to_categorical(y_num)\n",
        "\n",
        "# Vocabulary size\n",
        "vocab_size = len(word_index) + 1\n",
        "print(\"Vocabulary size:\", vocab_size)\n"
      ]
    },
    {
      "cell_type": "code",
      "source": [
        "y.shape"
      ],
      "metadata": {
        "colab": {
          "base_uri": "https://localhost:8080/"
        },
        "id": "jqMAImfMooQT",
        "outputId": "21d86afb-b0ee-4cce-c5e3-a75e025136e8"
      },
      "execution_count": 19,
      "outputs": [
        {
          "output_type": "execute_result",
          "data": {
            "text/plain": [
              "(21970, 3)"
            ]
          },
          "metadata": {},
          "execution_count": 19
        }
      ]
    },
    {
      "cell_type": "code",
      "execution_count": 20,
      "metadata": {
        "colab": {
          "base_uri": "https://localhost:8080/"
        },
        "id": "onhKGg4l88Bw",
        "outputId": "ff2df898-7cc9-4f78-a7f7-dc87f0018e0d"
      },
      "outputs": [
        {
          "output_type": "execute_result",
          "data": {
            "text/plain": [
              "0        [ประเทศ, เรา, ผลิต, และ, ส่งออก, ยาสูบ, เยอะ, ...\n",
              "2            [อิ, เหี้ย, ออม, ทำ, กู, อยาก, กิน, เอ็ม, เค]\n",
              "4                  [สวัสดี, วัน, พุธ,  , แนน,  , อะไร, นะ]\n",
              "5        [ก้อน, ขอบพระคุณ, มาก, ๆ, นะ, คร้าบ,  , ที่, ม...\n",
              "7                         [ปาก, แดง, กิน, ฟรี, ค่ะ,  , 😬😬]\n",
              "                               ...                        \n",
              "23540                             [แม่, ง, ควาย, ล้วน, นน]\n",
              "23541    [ดอย, สุเทพ, น้อง, ง,  , ไป, หมด, แล้ว, ววว,  ...\n",
              "23542                 [ค่า, ชุด, อาจจะ, แพง, กว่า, ส่วนลด]\n",
              "23543                      [รัฐ, ต้องการ, แค่, ภาษี, ครับ]\n",
              "23544    [™,  , ได้, พัฒนา, ระบบ, เข้าสู่, รุ่น, ที่สอง...\n",
              "Name: tokenized_texts, Length: 21970, dtype: object"
            ]
          },
          "metadata": {},
          "execution_count": 20
        }
      ],
      "source": [
        "train_df['tokenized_texts']"
      ]
    },
    {
      "cell_type": "markdown",
      "metadata": {
        "id": "4Anf9uM9TjNq"
      },
      "source": [
        "# \"LSTM\" Model\n",
        "\n",
        "## Reasons for Choosing LSTM\n",
        "\n",
        "- **Sequential Data Suitability:**\n",
        "  - LSTM is particularly suitable for sequential data, making it an ideal choice for tasks like sentiment analysis.\n",
        "  - \"LSTM is designed to capture long-range dependencies,\" allowing it to understand the context of words in a sentence.\n",
        "\n",
        "- **Handling Vanishing Gradient:**\n",
        "  - LSTM addresses the vanishing gradient problem inherent in training deep neural networks.\n",
        "  - Utilizes a memory cell, forget gate, and residual connections to help the network remember previous sentences, forget unnecessary input, and prevent vanishing gradient issues, especially in long sentences.\n",
        "\n",
        "- **Memory Cell for Long-Term Information:**\n",
        "  - The memory cell in LSTM enables the model to store and retrieve information over extended periods.\n",
        "  - This feature allows the model to remember contextual information, contributing to a better understanding of the overall sequence.\n",
        "\n"
      ]
    },
    {
      "cell_type": "markdown",
      "metadata": {
        "id": "iHc6kzz7Rgs4"
      },
      "source": [
        "#### How LSTM Works\n",
        "\n",
        "1. **Input Sequences:**\n",
        "   - Input sequences consist of a sequence of words, with each word represented as a vector.\n",
        "\n",
        "2. **Sequence Processing:**\n",
        "   - LSTM processes the input one element at a time.\n",
        "   - It captures information from earlier parts of the sentences, both in the forward and backward directions.\n",
        "\n",
        "3. **Memory Cells:**\n",
        "   - LSTM utilizes memory cells to collect the state.\n",
        "   - Memory cells selectively remember or forget information over long sequences.\n",
        "\n",
        "4. **Gates:**\n",
        "   - LSTM gates control the flow of information.\n",
        "     - **Input Gate:**\n",
        "       - Decides which information to add to the memory cell (cell state).\n",
        "     - **Forget Gate:**\n",
        "       - Decides which information to discard from the memory cell.\n",
        "         - *How does the forget gate work?*\n",
        "           - The forget gate examines the input data along with the hidden state and uses sigmoid activation to decide.\n",
        "     - **Output Gate:**\n",
        "       - Decides what to output based on the current input and the memory cell's content.\n",
        "\n",
        "5. **Backpropagation Through Time:**\n",
        "   - Propagates the error back through the entire sequence.\n",
        "   - Updates the weights at each time step to improve the model's performance.\n",
        "\n"
      ]
    },
    {
      "cell_type": "markdown",
      "source": [
        "# Model Architecture\n",
        "\n",
        "## 1. Embedding Layer\n",
        "\n",
        "- Converts input sequences into dense vectors.\n",
        "- Helps in representing words as continuous vectors, making model implementation easier.\n",
        "- **Parameters:**\n",
        "  - `input_dim`: Size of the vocabulary.\n",
        "  - `output_dim`: Size of the output dense vector representation for each word.\n",
        "  - `max_length`: Maximum length of input sequences.\n",
        "\n",
        "## 2. Spatial Dropout\n",
        "\n",
        "- Applies dropout specifically to the embedding layers.\n",
        "- Randomly selects neurons to ignore during training.\n",
        "\n",
        "## 3. Bidirectional LSTM\n",
        "\n",
        "- Connects LSTM layers in both forward and backward directions.\n",
        "- Allows the LSTM to process input sequences bidirectionally.\n",
        "\n",
        "## 4. BatchNormalization\n",
        "\n",
        "- Normalizes the activations of the previous layer.\n",
        "- Stabilizes and accelerates the training process.\n",
        "\n",
        "## 5. Dense Layers\n",
        "\n",
        "- **`Dense(64)`**\n",
        "  - Acts as a feature extractor, reducing dimensionality before the final classification.\n",
        "  - **Activation Function:** Hyperbolic tangent (tanh).\n",
        "  - **Regularization:** L2 regularization with a coefficient of 0.01.\n",
        "\n",
        "- **`Dense(3)`**\n",
        "  - Produces the final output probabilities for classification.\n",
        "  - **Activation Function:** Softmax.\n"
      ],
      "metadata": {
        "id": "KOLhnJXHpYga"
      }
    },
    {
      "cell_type": "code",
      "execution_count": 21,
      "metadata": {
        "id": "0FOVn2mKWrn-"
      },
      "outputs": [],
      "source": [
        "initial_learning_rate = 1e-3\n",
        "lr_schedule = ExponentialDecay(\n",
        "    initial_learning_rate=initial_learning_rate,\n",
        "    decay_steps=10000,\n",
        "    decay_rate=0.9\n",
        ")\n",
        "\n",
        "model = Sequential([\n",
        "    Embedding(input_dim=vocab_size, output_dim=128, input_length=max_length),\n",
        "    SpatialDropout1D(0.2),\n",
        "    Bidirectional(LSTM(50, dropout=0.2, recurrent_dropout=0, return_sequences=True)),\n",
        "    BatchNormalization(),\n",
        "    Bidirectional(LSTM(50, dropout=0.2, recurrent_dropout=0)),\n",
        "    BatchNormalization(),\n",
        "    Dense(64, activation='tanh', kernel_regularizer=l2(0.01)),\n",
        "    Dense(3, activation='softmax')\n",
        "])\n",
        "optimizer = Adam(learning_rate=initial_learning_rate)\n",
        "\n",
        "model.compile(loss='categorical_crossentropy', optimizer=optimizer, metrics=['acc',f1_m,precision_m, recall_m])\n"
      ]
    },
    {
      "cell_type": "code",
      "execution_count": 22,
      "metadata": {
        "colab": {
          "base_uri": "https://localhost:8080/"
        },
        "id": "CqyRFiMJWrn-",
        "outputId": "41e388cd-e440-484d-e4a8-6cc899b340e3"
      },
      "outputs": [
        {
          "output_type": "stream",
          "name": "stdout",
          "text": [
            "Model: \"sequential\"\n",
            "_________________________________________________________________\n",
            " Layer (type)                Output Shape              Param #   \n",
            "=================================================================\n",
            " embedding (Embedding)       (None, 99, 128)           3049600   \n",
            "                                                                 \n",
            " spatial_dropout1d (Spatial  (None, 99, 128)           0         \n",
            " Dropout1D)                                                      \n",
            "                                                                 \n",
            " bidirectional (Bidirection  (None, 99, 100)           71600     \n",
            " al)                                                             \n",
            "                                                                 \n",
            " batch_normalization (Batch  (None, 99, 100)           400       \n",
            " Normalization)                                                  \n",
            "                                                                 \n",
            " bidirectional_1 (Bidirecti  (None, 100)               60400     \n",
            " onal)                                                           \n",
            "                                                                 \n",
            " batch_normalization_1 (Bat  (None, 100)               400       \n",
            " chNormalization)                                                \n",
            "                                                                 \n",
            " dense (Dense)               (None, 64)                6464      \n",
            "                                                                 \n",
            " dense_1 (Dense)             (None, 3)                 195       \n",
            "                                                                 \n",
            "=================================================================\n",
            "Total params: 3189059 (12.17 MB)\n",
            "Trainable params: 3188659 (12.16 MB)\n",
            "Non-trainable params: 400 (1.56 KB)\n",
            "_________________________________________________________________\n"
          ]
        }
      ],
      "source": [
        "model.summary()"
      ]
    },
    {
      "cell_type": "markdown",
      "metadata": {
        "id": "wgj4iztiRgs4"
      },
      "source": [
        "### Training"
      ]
    },
    {
      "cell_type": "markdown",
      "metadata": {
        "id": "kjw6-XrYRgs4"
      },
      "source": [
        "#### Class Weight\n",
        "- Using class weights to address class imbalance in the dataset ensures that the model gives higher weight to minority classes, preventing them from being overshadowed by the majority class.\n"
      ]
    },
    {
      "cell_type": "code",
      "source": [
        "early_stopping = EarlyStopping(monitor='val_f1_m', patience=10, restore_best_weights=True)\n",
        "\n",
        "X_train, X_val, y_train, y_val = train_test_split(X, y, test_size=0.2, random_state=42)\n",
        "\n",
        "class_weights = compute_class_weight(\n",
        "                                        class_weight = \"balanced\",\n",
        "                                        classes = np.unique(y_num),  # numerical\n",
        "                                        y = y_num # numerical\n",
        "                                    )\n",
        "class_weights_dict = dict(zip(np.unique(y_num), class_weights))"
      ],
      "metadata": {
        "id": "aUQfvBvqG42K"
      },
      "execution_count": 23,
      "outputs": []
    },
    {
      "cell_type": "code",
      "source": [
        "class_weights_dict"
      ],
      "metadata": {
        "colab": {
          "base_uri": "https://localhost:8080/"
        },
        "id": "kULmMKmXG64C",
        "outputId": "bcb3e08a-142b-40a4-8f75-9527c9526299"
      },
      "execution_count": 24,
      "outputs": [
        {
          "output_type": "execute_result",
          "data": {
            "text/plain": [
              "{0: 1.223819073083779, 1: 0.6161310224914465, 2: 1.7861788617886178}"
            ]
          },
          "metadata": {},
          "execution_count": 24
        }
      ]
    },
    {
      "cell_type": "code",
      "execution_count": 25,
      "metadata": {
        "colab": {
          "base_uri": "https://localhost:8080/"
        },
        "id": "kKtTt4pPWrn_",
        "outputId": "d78f3ee8-5ab9-421b-91c3-d19021bd76b0"
      },
      "outputs": [
        {
          "output_type": "stream",
          "name": "stdout",
          "text": [
            "Epoch 1/100\n",
            "550/550 [==============================] - 53s 66ms/step - loss: 1.3108 - acc: 0.5552 - f1_m: 0.5036 - precision_m: 0.5947 - recall_m: 0.4399 - val_loss: 0.9363 - val_acc: 0.6723 - val_f1_m: 0.6460 - val_precision_m: 0.7153 - val_recall_m: 0.5904\n",
            "Epoch 2/100\n",
            "550/550 [==============================] - 16s 30ms/step - loss: 0.7472 - acc: 0.7146 - f1_m: 0.7021 - precision_m: 0.7407 - recall_m: 0.6685 - val_loss: 0.8851 - val_acc: 0.6170 - val_f1_m: 0.6048 - val_precision_m: 0.6364 - val_recall_m: 0.5771\n",
            "Epoch 3/100\n",
            "550/550 [==============================] - 16s 29ms/step - loss: 0.5056 - acc: 0.7959 - f1_m: 0.7937 - precision_m: 0.8141 - recall_m: 0.7751 - val_loss: 0.8895 - val_acc: 0.6509 - val_f1_m: 0.6469 - val_precision_m: 0.6666 - val_recall_m: 0.6289\n",
            "Epoch 4/100\n",
            "550/550 [==============================] - 16s 29ms/step - loss: 0.3810 - acc: 0.8425 - f1_m: 0.8411 - precision_m: 0.8529 - recall_m: 0.8301 - val_loss: 0.9887 - val_acc: 0.6115 - val_f1_m: 0.6042 - val_precision_m: 0.6263 - val_recall_m: 0.5843\n",
            "Epoch 5/100\n",
            "550/550 [==============================] - 17s 30ms/step - loss: 0.3144 - acc: 0.8687 - f1_m: 0.8677 - precision_m: 0.8761 - recall_m: 0.8597 - val_loss: 1.0030 - val_acc: 0.6570 - val_f1_m: 0.6567 - val_precision_m: 0.6646 - val_recall_m: 0.6493\n",
            "Epoch 6/100\n",
            "550/550 [==============================] - 14s 26ms/step - loss: 0.2658 - acc: 0.8871 - f1_m: 0.8859 - precision_m: 0.8919 - recall_m: 0.8802 - val_loss: 1.0848 - val_acc: 0.6379 - val_f1_m: 0.6326 - val_precision_m: 0.6411 - val_recall_m: 0.6246\n",
            "Epoch 7/100\n",
            "550/550 [==============================] - 14s 26ms/step - loss: 0.2354 - acc: 0.9005 - f1_m: 0.9000 - precision_m: 0.9043 - recall_m: 0.8959 - val_loss: 1.0829 - val_acc: 0.6759 - val_f1_m: 0.6757 - val_precision_m: 0.6814 - val_recall_m: 0.6702\n",
            "Epoch 8/100\n",
            "550/550 [==============================] - 14s 26ms/step - loss: 0.1996 - acc: 0.9161 - f1_m: 0.9161 - precision_m: 0.9195 - recall_m: 0.9128 - val_loss: 1.2029 - val_acc: 0.6493 - val_f1_m: 0.6490 - val_precision_m: 0.6533 - val_recall_m: 0.6448\n",
            "Epoch 9/100\n",
            "550/550 [==============================] - 14s 25ms/step - loss: 0.1829 - acc: 0.9234 - f1_m: 0.9235 - precision_m: 0.9266 - recall_m: 0.9205 - val_loss: 1.2487 - val_acc: 0.6773 - val_f1_m: 0.6772 - val_precision_m: 0.6813 - val_recall_m: 0.6733\n",
            "Epoch 10/100\n",
            "550/550 [==============================] - 14s 26ms/step - loss: 0.1755 - acc: 0.9276 - f1_m: 0.9276 - precision_m: 0.9298 - recall_m: 0.9253 - val_loss: 1.1670 - val_acc: 0.6511 - val_f1_m: 0.6512 - val_precision_m: 0.6568 - val_recall_m: 0.6459\n",
            "Epoch 11/100\n",
            "550/550 [==============================] - 15s 28ms/step - loss: 0.1716 - acc: 0.9291 - f1_m: 0.9293 - precision_m: 0.9317 - recall_m: 0.9270 - val_loss: 1.2669 - val_acc: 0.6666 - val_f1_m: 0.6671 - val_precision_m: 0.6707 - val_recall_m: 0.6635\n",
            "Epoch 12/100\n",
            "550/550 [==============================] - 14s 25ms/step - loss: 0.1691 - acc: 0.9284 - f1_m: 0.9281 - precision_m: 0.9299 - recall_m: 0.9264 - val_loss: 1.2560 - val_acc: 0.6675 - val_f1_m: 0.6665 - val_precision_m: 0.6690 - val_recall_m: 0.6640\n",
            "Epoch 13/100\n",
            "550/550 [==============================] - 14s 25ms/step - loss: 0.1483 - acc: 0.9396 - f1_m: 0.9398 - precision_m: 0.9410 - recall_m: 0.9386 - val_loss: 1.3000 - val_acc: 0.6575 - val_f1_m: 0.6585 - val_precision_m: 0.6617 - val_recall_m: 0.6555\n",
            "Epoch 14/100\n",
            "550/550 [==============================] - 14s 25ms/step - loss: 0.1297 - acc: 0.9485 - f1_m: 0.9485 - precision_m: 0.9500 - recall_m: 0.9472 - val_loss: 1.4099 - val_acc: 0.6616 - val_f1_m: 0.6609 - val_precision_m: 0.6640 - val_recall_m: 0.6579\n"
          ]
        }
      ],
      "source": [
        "history = model.fit(X_train, y_train, epochs=100, batch_size=32, validation_data=(X_val, y_val), callbacks=[early_stopping], class_weight=class_weights_dict)\n"
      ]
    },
    {
      "cell_type": "markdown",
      "metadata": {
        "id": "BaSu5Y_JRgs4"
      },
      "source": [
        "#### Evaluation"
      ]
    },
    {
      "cell_type": "markdown",
      "metadata": {
        "id": "aiA5rIC_Rgs5"
      },
      "source": [
        "- **Evaluation Summarization:**\n",
        "  - Due to the inherent imbalance in my dataset, the focus of the evaluation is on key metrics including precision, F1-score, and recall.\n",
        "    - Precision: Measuring the accuracy of positive predictions.(How well model predict)\n",
        "    - F1-score: Balancing precision and recall, particularly important in imbalanced datasets.\n",
        "    - Recall: Capturing the ability to identify all relevant instances, especially vital for minority classes.\n"
      ]
    },
    {
      "cell_type": "code",
      "execution_count": 26,
      "metadata": {
        "colab": {
          "base_uri": "https://localhost:8080/"
        },
        "id": "ntIInp4cqDBP",
        "outputId": "7cc8285f-3226-4c55-9b72-504bea193baa"
      },
      "outputs": [
        {
          "output_type": "stream",
          "name": "stdout",
          "text": [
            "138/138 [==============================] - 1s 10ms/step - loss: 0.9887 - acc: 0.6115 - f1_m: 0.6042 - precision_m: 0.6263 - recall_m: 0.5843\n"
          ]
        }
      ],
      "source": [
        "score = model.evaluate(X_val, y_val, verbose=1, batch_size=32)\n"
      ]
    },
    {
      "cell_type": "code",
      "execution_count": 27,
      "metadata": {
        "id": "9dHX5NXWH3Cj"
      },
      "outputs": [],
      "source": [
        "test_df = pd.read_csv('test.csv')"
      ]
    },
    {
      "cell_type": "code",
      "execution_count": 28,
      "metadata": {
        "id": "fbGsau5BsWJy"
      },
      "outputs": [],
      "source": [
        "test_df['tokenized_texts'] = test_df['texts'].apply(word_tokenize)\n",
        "\n",
        "# Convert the text sequences to integer sequences based on the existing word_index\n",
        "test_df['sequences'] = test_df['tokenized_texts'].apply(lambda words_list: [word_index.get(word, 0) for word in words_list])\n",
        "\n",
        "# Padding sequences\n",
        "X_test = pad_sequences(test_df['sequences'], maxlen=max_length)\n",
        "\n",
        "test_labels = test_df['category'].map(label_mapping)\n",
        "y_test = to_categorical(test_labels)\n"
      ]
    },
    {
      "cell_type": "code",
      "execution_count": 29,
      "metadata": {
        "colab": {
          "base_uri": "https://localhost:8080/"
        },
        "id": "6TucYpm_Hm1Z",
        "outputId": "e15676e5-4270-4294-a863-b305618b2bd5"
      },
      "outputs": [
        {
          "output_type": "stream",
          "name": "stdout",
          "text": [
            "84/84 [==============================] - 3s 11ms/step\n"
          ]
        }
      ],
      "source": [
        "predictions = model.predict(X_test)\n",
        "\n",
        "predicted_labels = np.argmax(predictions, axis=1)"
      ]
    },
    {
      "cell_type": "code",
      "execution_count": 30,
      "metadata": {
        "id": "JuRZGEhaV3ou"
      },
      "outputs": [],
      "source": [
        "y_test_original = np.argmax(y_test, axis=1)\n"
      ]
    },
    {
      "cell_type": "markdown",
      "source": [
        "# Conclusion\n",
        "\n",
        "The model's performance is relatively balanced across three classes with precision, recall, and F1-score around 33%.\n",
        "\n",
        "## Confusion Matrix Analysis\n",
        "\n",
        "- **Highest Correct Predictions: Class Negative**\n",
        "  - The class that made the highest number of correct predictions is the Negative Sentiment class. Negative sentiment sentences appear to be more straightforward for the model to decide.\n",
        "\n",
        "- **Highest Mispredictions: Class Neutral**\n",
        "  - The class with the highest number of mispredictions is the Neutral Sentiment class. Deciding between Neutral and Positive sentiments can be challenging, even for a human reader. This difficulty is reflected in the model's mispredictions, making sense given the inherent ambiguity in neutral statements.\n",
        "\n",
        "In summary, the model performs well in distinguishing negative sentiments but faces challenges in accurately classifying neutral sentiments, reflecting the inherent difficulty in differentiating between neutral and positive expressions.\n"
      ],
      "metadata": {
        "id": "tRjOj2Ff6ns5"
      }
    },
    {
      "cell_type": "code",
      "execution_count": 31,
      "metadata": {
        "colab": {
          "base_uri": "https://localhost:8080/",
          "height": 738
        },
        "id": "0luo6t9_sn06",
        "outputId": "9da685d9-b17d-4d86-d04a-9a4e19f2ea2e"
      },
      "outputs": [
        {
          "output_type": "stream",
          "name": "stdout",
          "text": [
            "              precision    recall  f1-score   support\n",
            "\n",
            "           0       0.31      0.31      0.31       891\n",
            "           1       0.30      0.31      0.30       892\n",
            "           2       0.33      0.33      0.33       891\n",
            "\n",
            "    accuracy                           0.32      2674\n",
            "   macro avg       0.32      0.32      0.32      2674\n",
            "weighted avg       0.32      0.32      0.32      2674\n",
            "\n"
          ]
        },
        {
          "output_type": "display_data",
          "data": {
            "text/plain": [
              "<Figure size 800x600 with 2 Axes>"
            ],
            "image/png": "[encoded data removed]"
          },
          "metadata": {}
        }
      ],
      "source": [
        "# Evaluate classification report\n",
        "classification_report(y_test_original, predicted_labels)\n",
        "print(classification_report(y_test_original, predicted_labels))\n",
        "\n",
        "conf_matrix = confusion_matrix(y_test_original, predicted_labels)\n",
        "plt.figure(figsize=(8, 6))\n",
        "sns.heatmap(conf_matrix, annot=True, fmt='d', xticklabels=['neu', 'pos', 'neg'], yticklabels=['neu', 'pos', 'neg'])\n",
        "plt.title('Confusion Matrix')\n",
        "plt.xlabel('Predicted')\n",
        "plt.ylabel('True')\n",
        "plt.show()"
      ]
    },
    {
      "cell_type": "markdown",
      "metadata": {
        "id": "dkUEZjXXXN7i"
      },
      "source": [
        "### Performance evaluation"
      ]
    },
    {
      "cell_type": "markdown",
      "metadata": {
        "id": "KV5mHfjDNu88"
      },
      "source": [
        "<li> Check for the model predict wrong classes"
      ]
    },
    {
      "cell_type": "code",
      "execution_count": 32,
      "metadata": {
        "colab": {
          "base_uri": "https://localhost:8080/"
        },
        "id": "yg-ioGWKN0kr",
        "outputId": "2cc9999c-8949-488b-edaf-4e7ac87a2f13"
      },
      "outputs": [
        {
          "output_type": "stream",
          "name": "stdout",
          "text": [
            "Index: 0\n",
            "Predicted Probabilities: 0.9815492\n",
            "Predicted Class: 0\n",
            "True Class: 1\n",
            "Text: ซื้อแต่ผ้าอนามัยแบบเย็นมาค่ะ แบบว่าอีห่ากูนอนไม่ได้\n",
            "\n",
            "\n",
            "Index: 1\n",
            "Predicted Probabilities: 0.5255274\n",
            "Predicted Class: 1\n",
            "True Class: 2\n",
            "Text: ครับ #phithanbkk\n",
            "\n",
            "\n",
            "Index: 5\n",
            "Predicted Probabilities: 0.89379686\n",
            "Predicted Class: 2\n",
            "True Class: 0\n",
            "Text: เคล็ดลับที่ขาดไม่ได้ในการป้องกันผิวจากแสงแดด คือการทาครีมกันแดด สาวๆบ้างคนอาจจะคิดว่ามันไม่ใช่เรื่องสำคัญเท่าไหร่ แต่บอกเลยว่า ผิดมาก เพราะแสงแดดสมัยนี้แรงมาก และมีอนุภาพการทำลายผิวสูงมาก ถ้าไม่อยากให้ผิวเราถูกทำร้ายแบบซ้ำๆซาก ควรทาครีมกันแดดที่ดีมีคุณภาพอย่าง Eucerin Sun Age Repair Serum ปัจจุบันครีมกันแดดมีมากมายให้เราเลือกซื้อก็จริง แต่ก็อย่าลืมเลือกสิ่งที่ดีที่สุดให้ตัวเราอย่าง Eucerin Sun Acne oil Control ค่ะ\n",
            "\n",
            "\n",
            "Index: 6\n",
            "Predicted Probabilities: 0.98282444\n",
            "Predicted Class: 0\n",
            "True Class: 1\n",
            "Text: สำหรับสูตรของผม คือ Jack Daniel's หวานซ่อนเปรี้ยวชื่อ Jack Yellow Life ส่วนประกอบ Jack Daniel's 2 ชอท น้ำเก๊กฮวย น้ำมะนาว ใบมิ้นท์ เกลือเล็กน้อย วิธีปรุง นำ JackDaniel's มาเขย่ากับน้ำเก๊กฮวย เจือด้วยน้ำมะนาวบางๆ ตกแต่งด้วยใบมิ้น เสริฟด้วยแก้วที่ทาเกลือไว้ที่ปากแก้ว รสชาติที่จะได้คือหวาน หอม ซ่อนเปรี้ยว ด้วยคอนเซ็ปว่านี่แหละคือชีวิต จะหวานอย่างเดียวก็จะเลี่ยนไป จะเปรี้ยวเกินไปก็ไม่ใช่เรื่อง จึงควรจะมีทั้งเปรี้ยว ทั้งหวานคละเคล้ากันไปครับ\n",
            "\n",
            "\n",
            "Index: 7\n",
            "Predicted Probabilities: 0.9226129\n",
            "Predicted Class: 1\n",
            "True Class: 2\n",
            "Text: เจ้ว่าการ์นิเย่แอบแรงนิสหน่อย เคยใช้โยเกิร์ตไม๊ พรุ้งนี้ลองพอกหน้าดูทำให้หน้าสบายขึ้น นุ่มขึ้น หายไวไวน๊าาาา\n",
            "\n",
            "\n",
            "Index: 9\n",
            "Predicted Probabilities: 0.9919905\n",
            "Predicted Class: 0\n",
            "True Class: 1\n",
            "Text: อิผ้าอนามัยเหิ้ย ติดทุกอย่าง ยกเว้นกางเกงใน\n",
            "\n",
            "\n",
            "Index: 10\n",
            "Predicted Probabilities: 0.98936194\n",
            "Predicted Class: 0\n",
            "True Class: 2\n",
            "Text: ไอเหี้ยพวกเหี้ยถ้าไม่ได้ภาษีแม่งจับหมดไอสัส นายกก้นิ่งไม่มองดูประชาชนเลย #นี่หรือประเทศไทย\n",
            "\n",
            "\n",
            "Index: 11\n",
            "Predicted Probabilities: 0.84839463\n",
            "Predicted Class: 1\n",
            "True Class: 0\n",
            "Text: #SinghaPark #SinghaParkChiangRai #SocialEnterprise #สิงห์ปาร์คเชียงราย เทศกาลแห่งความสุข 💛 มาถ่ายรูปสวยๆ ที่สิงห์ปาร์ค เชียงราย กันเถอะ! credit ig --------------------------- ***Application 'Singhapark' app ที่จะช่วยเปิดประสบการณ์การท่องเที่ยวที่สิงห์ปาร์คเชียงรายให้สนุกมากขึ้น พร้อมให้ดาวน์โหลดแล้ววันนี้ คลิกเลย ----> ios : https://appsto.re/th/s-0gdb.i android : https://play.google.com/store/apps/details?id=com.singha.singhapark\n",
            "\n",
            "\n",
            "Index: 12\n",
            "Predicted Probabilities: 0.72710174\n",
            "Predicted Class: 2\n",
            "True Class: 1\n",
            "Text: กินก่อนจ่ายทีหลังไง\n",
            "\n",
            "\n",
            "Index: 13\n",
            "Predicted Probabilities: 0.86807185\n",
            "Predicted Class: 0\n",
            "True Class: 2\n",
            "Text: หมูกระทะ ชาบู บุฟเฟต์ ฮอตพอต นี้คือชื่อลูกน้องมุก\n",
            "\n",
            "\n",
            "Index: 14\n",
            "Predicted Probabilities: 0.98857355\n",
            "Predicted Class: 2\n",
            "True Class: 0\n",
            "Text: สำหรับงาน Transmisson : The Spirit of Warrior ต้องขวดนี้ค่ะ Jack Daniel's Tennessee Whiskey honey ป็นวิสกี้ที่โดดเด่นในเรื่องของความหอมหวานราวกับน้ำผึ้ง(เดือน5) เพราะนำเอา Honey Liqueur ถึง 4 ชนิดผสมเข้าไป ทำให้ได้รสเข้มข้นเหมือนกับดื่มน้ำผึ้งอยู่จริง ๆ แต่ไม่ได้หวานมากจนบาดคอนะคะ ผู้ชายก็ชอบผู้หญิงก็ต้องบอกว่าใช่!! แล้วเจอกันค่ะ <3\n",
            "\n",
            "\n",
            "Index: 15\n",
            "Predicted Probabilities: 0.9265453\n",
            "Predicted Class: 0\n",
            "True Class: 1\n",
            "Text: สินออโต้เซอร์วิส อู่เชฟโรเลต อะไหล่เชฟโรเลต อู่ซาฟีร่า อะไหล่ซาฟีร่า ติดออยเกียร์ Cruze 1.8 ราคาเท่าไหร่ครับ ใช้ระยะเวลานานแค่ไหนคับ\n",
            "\n",
            "\n",
            "Index: 16\n",
            "Predicted Probabilities: 0.806943\n",
            "Predicted Class: 0\n",
            "True Class: 2\n",
            "Text: ฉีด jomalone english pear มาค่ะ ป้าทักว่า \"กลิ่นเหมือนบุหรี่\" ร้องไห้...\n",
            "\n",
            "\n",
            "Index: 17\n",
            "Predicted Probabilities: 0.9775604\n",
            "Predicted Class: 2\n",
            "True Class: 0\n",
            "Text: ตู้วหูวววว กะเพราเป็ดย่างงงง\n",
            "\n",
            "\n",
            "Index: 18\n",
            "Predicted Probabilities: 0.9581838\n",
            "Predicted Class: 0\n",
            "True Class: 1\n",
            "Text: ภาคเหนือไม่ค่อยมีสาขาเลย สองมาตรฐานมาก!! เพิ่มสาขาหน่อยสิครับ\n",
            "\n",
            "\n",
            "Index: 19\n",
            "Predicted Probabilities: 0.88148725\n",
            "Predicted Class: 0\n",
            "True Class: 2\n",
            "Text: เมื่ออายุเพิ่มมากขึ้น ร่างกายก็เริ่มเสื่อมถอยตามไปด้วย สมองเองก็เช่นกัน และหากผู้สูงวัยมีอาการหลงลืม ความจำระยะสั้นไม่ดี พูดซ้ำ แก้ปัญหาไม่ได้ เสี่ยงโรคสมองเสื่อม ควรรีบเข้าพบแพทย์เพื่อเข้ารับการรักษาตั้งแต่แรกเริ่ม เพื่อดูแลตัวเองเสียตั้งแต่ตอนนี้นะคะ\n",
            "\n",
            "\n",
            "Index: 23\n",
            "Predicted Probabilities: 0.71687585\n",
            "Predicted Class: 1\n",
            "True Class: 0\n",
            "Text: เครื่อง v6 กี่ ccครับ เพราะเห็นของที่toyota บ้านเรา เอาเข้ามา 3.5 v6 ยังปาไป ห้าล้านกว่าเลยครับ\n",
            "\n",
            "\n",
            "Index: 25\n",
            "Predicted Probabilities: 0.7972282\n",
            "Predicted Class: 1\n",
            "True Class: 2\n",
            "Text: ฟอร์ด แนะนำเทคนิคขับออฟโรดแบบง่ายๆ\n",
            "\n",
            "\n",
            "Index: 26\n",
            "Predicted Probabilities: 0.79253584\n",
            "Predicted Class: 2\n",
            "True Class: 0\n",
            "Text: มันบ่แซบ\n",
            "\n",
            "\n",
            "Index: 27\n",
            "Predicted Probabilities: 0.9111276\n",
            "Predicted Class: 0\n",
            "True Class: 1\n",
            "Text: ในเว็บไซต์จะแจ้งสาขาที่ไม่ร่วมรายการค่ะ ^^\n",
            "\n",
            "\n"
          ]
        }
      ],
      "source": [
        "incorrect_indices = np.where(predicted_labels != y_test_original)[0]\n",
        "\n",
        "num_to_print = min(20, len(incorrect_indices))\n",
        "\n",
        "for i in range(num_to_print):\n",
        "    index = incorrect_indices[i]\n",
        "    print(\"Index:\", index)\n",
        "    print(\"Predicted Probabilities:\", np.max(predictions[index], axis=0))\n",
        "    print(\"Predicted Class:\", predicted_labels[index])\n",
        "    print(\"True Class:\", y_test_original[index])\n",
        "    print(\"Text:\", test_df['texts'].iloc[index])\n",
        "    print(\"\\n\")\n"
      ]
    },
    {
      "cell_type": "markdown",
      "metadata": {
        "id": "XkvGujIhPhqm"
      },
      "source": [
        "### Most wrongs predicted classes"
      ]
    },
    {
      "cell_type": "markdown",
      "metadata": {
        "id": "mRL5pzPRQzuz"
      },
      "source": [
        "  1. Class 1, which represents neutral sentiment, is the most misclassified.\n",
        "     - This may be due to a higher representation of the neutral class in the dataset.\n",
        "  2. The neutral class is particularly challenging to determine accurately.\n"
      ]
    },
    {
      "cell_type": "code",
      "execution_count": 33,
      "metadata": {
        "colab": {
          "base_uri": "https://localhost:8080/"
        },
        "id": "wtneonawPlfU",
        "outputId": "a5bc7587-fa21-45ff-855c-2016cdd450cc"
      },
      "outputs": [
        {
          "output_type": "stream",
          "name": "stdout",
          "text": [
            "Predicted Class: 1, Misclassification Count: 618\n",
            "Predicted Class: 2, Misclassification Count: 593\n",
            "Predicted Class: 0, Misclassification Count: 619\n"
          ]
        }
      ],
      "source": [
        "from collections import Counter\n",
        "\n",
        "misclassified_classes_counter = Counter(y_test_original[incorrect_indices])\n",
        "\n",
        "# Find the most frequently misclassified class\n",
        "most_wrong_class, misclassification_count = misclassified_classes_counter.most_common(1)[0]\n",
        "\n",
        "for predicted_class, misclassification_count in misclassified_classes_counter.items():\n",
        "    print(f\"Predicted Class: {predicted_class}, Misclassification Count: {misclassification_count}\")"
      ]
    },
    {
      "cell_type": "markdown",
      "metadata": {
        "id": "JQbREWU6RdgN"
      },
      "source": [
        "### Test model evaluation"
      ]
    },
    {
      "cell_type": "code",
      "execution_count": 34,
      "metadata": {
        "id": "6AfObr7iWLEy"
      },
      "outputs": [],
      "source": [
        "input_text = \"สวัสดีวันนี้วันพฤหัสบดี วันดีๆ\"\n"
      ]
    },
    {
      "cell_type": "code",
      "execution_count": 35,
      "metadata": {
        "colab": {
          "base_uri": "https://localhost:8080/"
        },
        "id": "Vl0S3IhPXc2X",
        "outputId": "88e213b8-c055-4b6c-c0a5-0fe07d3429d8"
      },
      "outputs": [
        {
          "output_type": "stream",
          "name": "stdout",
          "text": [
            "1/1 [==============================] - 0s 65ms/step\n",
            "Input Text: สวัสดีวันนี้วันพฤหัสบดี วันดีๆ\n",
            "Tokenized Input Sequence: ['สวัสดี', 'วันนี้', 'วัน', 'พฤหัสบดี', ' ', 'วันดี', 'ๆ']\n",
            "Predicted Category, the ground truth label is ['neg' 'neu' 'pos']: 2\n",
            "Predicted Probabilities: 0.74707687\n"
          ]
        }
      ],
      "source": [
        "input_sequence = word_tokenize(input_text)\n",
        "\n",
        "input_indices = [word_index[word] for word in input_sequence if word in word_index]\n",
        "\n",
        "# Pad the sequence\n",
        "padded_input = pad_sequences([input_indices], maxlen=max_length, padding='post')  # Assuming 'post' padding\n",
        "\n",
        "# Make predictions\n",
        "predicted_probabilities = model.predict(padded_input)\n",
        "\n",
        "predicted_label = np.argmax(predicted_probabilities, axis=1)[0]\n",
        "\n",
        "predicted_category = predicted_label\n",
        "\n",
        "print(\"Input Text:\", input_text)\n",
        "print(\"Tokenized Input Sequence:\", input_sequence)\n",
        "print(f\"Predicted Category, the ground truth label is {np.unique(train_df.category)}:\", predicted_category) # class 2 is positve\n",
        "print(\"Predicted Probabilities:\", np.max(predicted_probabilities))"
      ]
    },
    {
      "cell_type": "code",
      "source": [
        "input_text = \"เมื่อไหร่จะวันศุกร์ ขี้เกียจทำงานน\"\n"
      ],
      "metadata": {
        "id": "BKCtlngUUx7x"
      },
      "execution_count": 36,
      "outputs": []
    },
    {
      "cell_type": "code",
      "source": [
        "input_sequence = word_tokenize(input_text)\n",
        "\n",
        "input_indices = [word_index[word] for word in input_sequence if word in word_index]\n",
        "\n",
        "# Pad the sequence\n",
        "padded_input = pad_sequences([input_indices], maxlen=max_length, padding='post')  # Assuming 'post' padding\n",
        "\n",
        "# Make predictions\n",
        "predicted_probabilities = model.predict(padded_input)\n",
        "\n",
        "predicted_label = np.argmax(predicted_probabilities, axis=1)[0]\n",
        "\n",
        "predicted_category = predicted_label\n",
        "\n",
        "print(\"Input Text:\", input_text)\n",
        "print(\"Tokenized Input Sequence:\", input_sequence)\n",
        "print(f\"Predicted Category, the ground truth label is {np.unique(train_df.category)}:\", predicted_category) # class 2 is positve\n",
        "print(\"Predicted Probabilities:\", np.max(predicted_probabilities))"
      ],
      "metadata": {
        "colab": {
          "base_uri": "https://localhost:8080/"
        },
        "id": "FYsTY3wNU8be",
        "outputId": "7c5f4815-15d1-46a6-c840-374baac318aa"
      },
      "execution_count": 37,
      "outputs": [
        {
          "output_type": "stream",
          "name": "stdout",
          "text": [
            "1/1 [==============================] - 0s 23ms/step\n",
            "Input Text: เมื่อไหร่จะวันศุกร์ ขี้เกียจทำงานน\n",
            "Tokenized Input Sequence: ['เมื่อไหร่', 'จะ', 'วัน', 'ศุกร์', ' ', 'ขี้เกียจ', 'ทำงาน', 'น']\n",
            "Predicted Category, the ground truth label is ['neg' 'neu' 'pos']: 2\n",
            "Predicted Probabilities: 0.8227339\n"
          ]
        }
      ]
    },
    {
      "cell_type": "code",
      "source": [
        "input_text = \"อยากกินขนม\"\n"
      ],
      "metadata": {
        "id": "nl33J4ZjVE4L"
      },
      "execution_count": 38,
      "outputs": []
    },
    {
      "cell_type": "code",
      "source": [
        "input_sequence = word_tokenize(input_text)\n",
        "\n",
        "input_indices = [word_index[word] for word in input_sequence if word in word_index]\n",
        "\n",
        "# Pad the sequence\n",
        "padded_input = pad_sequences([input_indices], maxlen=max_length, padding='post')  # Assuming 'post' padding\n",
        "\n",
        "# Make predictions\n",
        "predicted_probabilities = model.predict(padded_input)\n",
        "\n",
        "predicted_label = np.argmax(predicted_probabilities, axis=1)[0]\n",
        "\n",
        "predicted_category = predicted_label\n",
        "\n",
        "print(\"Input Text:\", input_text)\n",
        "print(\"Tokenized Input Sequence:\", input_sequence)\n",
        "print(f\"Predicted Category, the ground truth label is {np.unique(train_df.category)}:\", predicted_category) # class 2 is positve\n",
        "print(\"Predicted Probabilities:\", np.max(predicted_probabilities))"
      ],
      "metadata": {
        "colab": {
          "base_uri": "https://localhost:8080/"
        },
        "id": "-DwCR9AwVM_l",
        "outputId": "2c284b4d-2084-4584-facd-74fc687bb824"
      },
      "execution_count": 39,
      "outputs": [
        {
          "output_type": "stream",
          "name": "stdout",
          "text": [
            "1/1 [==============================] - 0s 25ms/step\n",
            "Input Text: อยากกินขนม\n",
            "Tokenized Input Sequence: ['อยาก', 'กิน', 'ขนม']\n",
            "Predicted Category, the ground truth label is ['neg' 'neu' 'pos']: 2\n",
            "Predicted Probabilities: 0.71482617\n"
          ]
        }
      ]
    },
    {
      "cell_type": "markdown",
      "metadata": {
        "id": "ddFeGgPFRgtI"
      },
      "source": [
        "### Conclusion"
      ]
    },
    {
      "cell_type": "markdown",
      "metadata": {
        "id": "0wr0SogbRgtI"
      },
      "source": [
        "The model shows signs of overfitting due to data ambiguity. To address this, I've adjusted metrics and explored LSTM enhancements, including dropout, early stopping, and regularization. Future plans involve l\n",
        "everaging pre-trained models when resources allow, along with a focus on feature engineering and data augmentation."
      ]
    }
  ],
  "metadata": {
    "accelerator": "GPU",
    "colab": {
      "gpuType": "T4",
      "provenance": []
    },
    "kernelspec": {
      "display_name": "Python 3",
      "name": "python3"
    },
    "language_info": {
      "codemirror_mode": {
        "name": "ipython",
        "version": 3
      },
      "file_extension": ".py",
      "mimetype": "text/x-python",
      "name": "python",
      "nbconvert_exporter": "python",
      "pygments_lexer": "ipython3",
      "version": "3.9.18"
    }
  },
  "nbformat": 4,
  "nbformat_minor": 0
}