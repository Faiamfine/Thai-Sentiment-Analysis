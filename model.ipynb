{
  "cells": [
    {
      "cell_type": "markdown",
      "metadata": {
        "id": "KqDLjDRxCvZL"
      },
      "source": [
        "**Input:** Text\n",
        "\n",
        "**Output:** Sentiment Label [0, 1, 2]\n",
        "\n",
        "- **0:** Negative Sentiment\n",
        "- **1:** Neutral Sentiment\n",
        "- **2:** Positive Sentiment"
      ]
    },
    {
      "cell_type": "code",
      "execution_count": 45,
      "metadata": {
        "colab": {
          "base_uri": "https://localhost:8080/"
        },
        "id": "ltR1B4dbR110",
        "outputId": "300cf563-3c16-4d71-fdd4-f3d1767adbf3"
      },
      "outputs": [
        {
          "name": "stdout",
          "output_type": "stream",
          "text": [
            "Requirement already satisfied: pythainlp in /usr/local/lib/python3.10/dist-packages (5.0.1)\n",
            "Requirement already satisfied: requests>=2.22.0 in /usr/local/lib/python3.10/dist-packages (from pythainlp) (2.31.0)\n",
            "Requirement already satisfied: charset-normalizer<4,>=2 in /usr/local/lib/python3.10/dist-packages (from requests>=2.22.0->pythainlp) (3.3.2)\n",
            "Requirement already satisfied: idna<4,>=2.5 in /usr/local/lib/python3.10/dist-packages (from requests>=2.22.0->pythainlp) (3.6)\n",
            "Requirement already satisfied: urllib3<3,>=1.21.1 in /usr/local/lib/python3.10/dist-packages (from requests>=2.22.0->pythainlp) (2.0.7)\n",
            "Requirement already satisfied: certifi>=2017.4.17 in /usr/local/lib/python3.10/dist-packages (from requests>=2.22.0->pythainlp) (2024.2.2)\n"
          ]
        }
      ],
      "source": [
        "pip install pythainlp"
      ]
    },
    {
      "cell_type": "code",
      "execution_count": 46,
      "metadata": {
        "id": "qAYuapo_Wrn5"
      },
      "outputs": [],
      "source": [
        "import numpy as np\n",
        "import pandas as pd\n",
        "\n",
        "from pythainlp import word_tokenize\n",
        "\n",
        "from keras import regularizers\n",
        "from keras import backend as K\n",
        "from keras.models import Sequential\n",
        "# from keras.utils import to_categorical\n",
        "from sklearn.preprocessing import LabelEncoder\n",
        "from tensorflow.keras.optimizers import Adam\n",
        "# from keras.layers import BatchNormalization\n",
        "from sklearn.model_selection import train_test_split\n",
        "\n",
        "from tensorflow.keras.utils import to_categorical\n",
        "# from keras.layers import Embedding, LSTM, Dense, Dropout\n",
        "from keras.preprocessing.sequence import pad_sequences\n",
        "from tensorflow.keras.optimizers.schedules import ExponentialDecay\n",
        "from tensorflow.keras.regularizers import l2\n",
        "from tensorflow.keras.layers import Embedding, Bidirectional, LSTM, Dense, BatchNormalization, SpatialDropout1D, Dropout\n",
        "\n",
        "from keras.callbacks import EarlyStopping\n",
        "from sklearn.preprocessing import LabelEncoder\n",
        "from sklearn.utils.class_weight import compute_class_weight\n",
        "\n",
        "import seaborn as sns\n",
        "import matplotlib.pyplot as plt\n",
        "from sklearn.metrics import classification_report, confusion_matrix"
      ]
    },
    {
      "cell_type": "code",
      "execution_count": 47,
      "metadata": {
        "id": "fkPYrwO0Wrn7"
      },
      "outputs": [],
      "source": [
        "train_df = pd.read_csv('train.csv')\n"
      ]
    },
    {
      "cell_type": "markdown",
      "metadata": {
        "id": "rcCIAXstIlPX"
      },
      "source": [
        "### Preprocess"
      ]
    },
    {
      "cell_type": "code",
      "execution_count": 48,
      "metadata": {
        "id": "ttFF0Aj7gfod"
      },
      "outputs": [],
      "source": [
        "train_df['length'] = train_df['texts'].apply(word_tokenize).apply(len)\n",
        "train_df = train_df[train_df['length'] < train_df['length'].quantile(0.95)]\n",
        "train_df = train_df[train_df['length'] >= train_df['length'].quantile(0.05)]"
      ]
    },
    {
      "cell_type": "code",
      "execution_count": 49,
      "metadata": {
        "colab": {
          "base_uri": "https://localhost:8080/"
        },
        "id": "uY1Mjv6QG8GB",
        "outputId": "eef2a3eb-2099-4142-8c7f-446aa9934603"
      },
      "outputs": [
        {
          "data": {
            "text/plain": [
              "neu    11893\n",
              "neg     5956\n",
              "pos     4092\n",
              "Name: category, dtype: int64"
            ]
          },
          "execution_count": 49,
          "metadata": {},
          "output_type": "execute_result"
        }
      ],
      "source": [
        "train_df.category.value_counts()"
      ]
    },
    {
      "cell_type": "code",
      "execution_count": 50,
      "metadata": {
        "colab": {
          "base_uri": "https://localhost:8080/"
        },
        "id": "bhXT9x6AG9xw",
        "outputId": "9740008e-c85d-4e13-b010-d8b939de89a5"
      },
      "outputs": [
        {
          "data": {
            "text/plain": [
              "['neg', 'neu', 'pos']"
            ]
          },
          "execution_count": 50,
          "metadata": {},
          "output_type": "execute_result"
        }
      ],
      "source": [
        "class_names = np.unique(train_df.category).tolist()\n",
        "class_names"
      ]
    },
    {
      "cell_type": "code",
      "execution_count": 51,
      "metadata": {
        "colab": {
          "base_uri": "https://localhost:8080/",
          "height": 206
        },
        "id": "WrAZPszXWrn8",
        "outputId": "d4161aa1-8114-4a4a-fd08-9806c6421592"
      },
      "outputs": [
        {
          "data": {
            "application/vnd.google.colaboratory.intrinsic+json": {
              "summary": "{\n  \"name\": \"train_df\",\n  \"rows\": 5,\n  \"fields\": [\n    {\n      \"column\": \"category\",\n      \"properties\": {\n        \"dtype\": \"category\",\n        \"samples\": [\n          \"neg\",\n          \"neu\"\n        ],\n        \"num_unique_values\": 2,\n        \"semantic_type\": \"\",\n        \"description\": \"\"\n      }\n    },\n    {\n      \"column\": \"texts\",\n      \"properties\": {\n        \"dtype\": \"string\",\n        \"samples\": [\n          \"\\u0e25\\u0e33\\u0e14\\u0e31\\u0e1a\\u0e17\\u0e35\\u0e486 \\u0e02\\u0e35\\u0e49\\u0e42\\u0e21\\u0e49\\u0e2b\\u0e19\\u0e48\\u0e2d\\u0e22555\",\n          \"\\u0e19\\u0e35\\u0e48\\u0e44\\u0e21\\u0e48\\u0e42\\u0e2d\\u0e40\\u0e04\\u0e01\\u0e31\\u0e1a BA Nars \\u0e2a\\u0e32\\u0e02\\u0e32\\u0e40\\u0e0b\\u0e19\\u0e40\\u0e1f\\u0e2a\\u0e40\\u0e0a\\u0e35\\u0e22\\u0e07\\u0e43\\u0e2b\\u0e21\\u0e48\\u0e2d\\u0e48\\u0e30 \\u0e04\\u0e37\\u0e2d\\u0e40\\u0e25\\u0e37\\u0e2d\\u0e01\\u0e25\\u0e39\\u0e01\\u0e04\\u0e49\\u0e32\\u0e40\\u0e27\\u0e48\\u0e2d \\u0e15\\u0e48\\u0e32\\u0e07\\u0e01\\u0e31\\u0e1a\\u0e1e\\u0e35\\u0e48\\u0e2a\\u0e32\\u0e02\\u0e32\\u0e40\\u0e0b\\u0e19\\u0e41\\u0e2d\\u0e1e\\u0e2d\\u0e23\\u0e4c\\u0e15\\u0e21\\u0e32\\u0e01\\u0e01 \\u0e1e\\u0e35\\u0e48\\u0e04\\u0e19\\u0e19\\u0e31\\u0e49\\u0e19\\u0e15\\u0e37\\u0e2d\\u0e44\\u0e19\\u0e0b\\u0e4c\\u0e21\\u0e32\\u0e01 \\u0e0a\\u0e2d\\u2026\"\n        ],\n        \"num_unique_values\": 5,\n        \"semantic_type\": \"\",\n        \"description\": \"\"\n      }\n    },\n    {\n      \"column\": \"length\",\n      \"properties\": {\n        \"dtype\": \"number\",\n        \"std\": 15,\n        \"min\": 3,\n        \"max\": 40,\n        \"samples\": [\n          7,\n          40\n        ],\n        \"num_unique_values\": 5,\n        \"semantic_type\": \"\",\n        \"description\": \"\"\n      }\n    }\n  ]\n}",
              "type": "dataframe"
            },
            "text/html": [
              "\n",
              "  <div id=\"df-e394eb31-9dfa-4577-9b7f-c96103f48ea9\" class=\"colab-df-container\">\n",
              "    <div>\n",
              "<style scoped>\n",
              "    .dataframe tbody tr th:only-of-type {\n",
              "        vertical-align: middle;\n",
              "    }\n",
              "\n",
              "    .dataframe tbody tr th {\n",
              "        vertical-align: top;\n",
              "    }\n",
              "\n",
              "    .dataframe thead th {\n",
              "        text-align: right;\n",
              "    }\n",
              "</style>\n",
              "<table border=\"1\" class=\"dataframe\">\n",
              "  <thead>\n",
              "    <tr style=\"text-align: right;\">\n",
              "      <th></th>\n",
              "      <th>category</th>\n",
              "      <th>texts</th>\n",
              "      <th>length</th>\n",
              "    </tr>\n",
              "  </thead>\n",
              "  <tbody>\n",
              "    <tr>\n",
              "      <th>12040</th>\n",
              "      <td>neu</td>\n",
              "      <td>มาไวๆ ไม่งั้นซีวิคกินเรียบ</td>\n",
              "      <td>8</td>\n",
              "    </tr>\n",
              "    <tr>\n",
              "      <th>18732</th>\n",
              "      <td>neu</td>\n",
              "      <td>ลำดับที่6 ขี้โม้หน่อย555</td>\n",
              "      <td>7</td>\n",
              "    </tr>\n",
              "    <tr>\n",
              "      <th>19580</th>\n",
              "      <td>neu</td>\n",
              "      <td>ได้เเดกเเล้วววววววววววววววววววววววววววววววววววว</td>\n",
              "      <td>4</td>\n",
              "    </tr>\n",
              "    <tr>\n",
              "      <th>3085</th>\n",
              "      <td>neu</td>\n",
              "      <td>เห็นแย้ว</td>\n",
              "      <td>3</td>\n",
              "    </tr>\n",
              "    <tr>\n",
              "      <th>13318</th>\n",
              "      <td>neg</td>\n",
              "      <td>นี่ไม่โอเคกับ BA Nars สาขาเซนเฟสเชียงใหม่อ่ะ ค...</td>\n",
              "      <td>40</td>\n",
              "    </tr>\n",
              "  </tbody>\n",
              "</table>\n",
              "</div>\n",
              "    <div class=\"colab-df-buttons\">\n",
              "\n",
              "  <div class=\"colab-df-container\">\n",
              "    <button class=\"colab-df-convert\" onclick=\"convertToInteractive('df-e394eb31-9dfa-4577-9b7f-c96103f48ea9')\"\n",
              "            title=\"Convert this dataframe to an interactive table.\"\n",
              "            style=\"display:none;\">\n",
              "\n",
              "  <svg xmlns=\"http://www.w3.org/2000/svg\" height=\"24px\" viewBox=\"0 -960 960 960\">\n",
              "    <path d=\"M120-120v-720h720v720H120Zm60-500h600v-160H180v160Zm220 220h160v-160H400v160Zm0 220h160v-160H400v160ZM180-400h160v-160H180v160Zm440 0h160v-160H620v160ZM180-180h160v-160H180v160Zm440 0h160v-160H620v160Z\"/>\n",
              "  </svg>\n",
              "    </button>\n",
              "\n",
              "  <style>\n",
              "    .colab-df-container {\n",
              "      display:flex;\n",
              "      gap: 12px;\n",
              "    }\n",
              "\n",
              "    .colab-df-convert {\n",
              "      background-color: #E8F0FE;\n",
              "      border: none;\n",
              "      border-radius: 50%;\n",
              "      cursor: pointer;\n",
              "      display: none;\n",
              "      fill: #1967D2;\n",
              "      height: 32px;\n",
              "      padding: 0 0 0 0;\n",
              "      width: 32px;\n",
              "    }\n",
              "\n",
              "    .colab-df-convert:hover {\n",
              "      background-color: #E2EBFA;\n",
              "      box-shadow: 0px 1px 2px rgba(60, 64, 67, 0.3), 0px 1px 3px 1px rgba(60, 64, 67, 0.15);\n",
              "      fill: #174EA6;\n",
              "    }\n",
              "\n",
              "    .colab-df-buttons div {\n",
              "      margin-bottom: 4px;\n",
              "    }\n",
              "\n",
              "    [theme=dark] .colab-df-convert {\n",
              "      background-color: #3B4455;\n",
              "      fill: #D2E3FC;\n",
              "    }\n",
              "\n",
              "    [theme=dark] .colab-df-convert:hover {\n",
              "      background-color: #434B5C;\n",
              "      box-shadow: 0px 1px 3px 1px rgba(0, 0, 0, 0.15);\n",
              "      filter: drop-shadow(0px 1px 2px rgba(0, 0, 0, 0.3));\n",
              "      fill: #FFFFFF;\n",
              "    }\n",
              "  </style>\n",
              "\n",
              "    <script>\n",
              "      const buttonEl =\n",
              "        document.querySelector('#df-e394eb31-9dfa-4577-9b7f-c96103f48ea9 button.colab-df-convert');\n",
              "      buttonEl.style.display =\n",
              "        google.colab.kernel.accessAllowed ? 'block' : 'none';\n",
              "\n",
              "      async function convertToInteractive(key) {\n",
              "        const element = document.querySelector('#df-e394eb31-9dfa-4577-9b7f-c96103f48ea9');\n",
              "        const dataTable =\n",
              "          await google.colab.kernel.invokeFunction('convertToInteractive',\n",
              "                                                    [key], {});\n",
              "        if (!dataTable) return;\n",
              "\n",
              "        const docLinkHtml = 'Like what you see? Visit the ' +\n",
              "          '<a target=\"_blank\" href=https://colab.research.google.com/notebooks/data_table.ipynb>data table notebook</a>'\n",
              "          + ' to learn more about interactive tables.';\n",
              "        element.innerHTML = '';\n",
              "        dataTable['output_type'] = 'display_data';\n",
              "        await google.colab.output.renderOutput(dataTable, element);\n",
              "        const docLink = document.createElement('div');\n",
              "        docLink.innerHTML = docLinkHtml;\n",
              "        element.appendChild(docLink);\n",
              "      }\n",
              "    </script>\n",
              "  </div>\n",
              "\n",
              "\n",
              "<div id=\"df-70ee2516-ba36-4298-b51b-79361c6c2917\">\n",
              "  <button class=\"colab-df-quickchart\" onclick=\"quickchart('df-70ee2516-ba36-4298-b51b-79361c6c2917')\"\n",
              "            title=\"Suggest charts\"\n",
              "            style=\"display:none;\">\n",
              "\n",
              "<svg xmlns=\"http://www.w3.org/2000/svg\" height=\"24px\"viewBox=\"0 0 24 24\"\n",
              "     width=\"24px\">\n",
              "    <g>\n",
              "        <path d=\"M19 3H5c-1.1 0-2 .9-2 2v14c0 1.1.9 2 2 2h14c1.1 0 2-.9 2-2V5c0-1.1-.9-2-2-2zM9 17H7v-7h2v7zm4 0h-2V7h2v10zm4 0h-2v-4h2v4z\"/>\n",
              "    </g>\n",
              "</svg>\n",
              "  </button>\n",
              "\n",
              "<style>\n",
              "  .colab-df-quickchart {\n",
              "      --bg-color: #E8F0FE;\n",
              "      --fill-color: #1967D2;\n",
              "      --hover-bg-color: #E2EBFA;\n",
              "      --hover-fill-color: #174EA6;\n",
              "      --disabled-fill-color: #AAA;\n",
              "      --disabled-bg-color: #DDD;\n",
              "  }\n",
              "\n",
              "  [theme=dark] .colab-df-quickchart {\n",
              "      --bg-color: #3B4455;\n",
              "      --fill-color: #D2E3FC;\n",
              "      --hover-bg-color: #434B5C;\n",
              "      --hover-fill-color: #FFFFFF;\n",
              "      --disabled-bg-color: #3B4455;\n",
              "      --disabled-fill-color: #666;\n",
              "  }\n",
              "\n",
              "  .colab-df-quickchart {\n",
              "    background-color: var(--bg-color);\n",
              "    border: none;\n",
              "    border-radius: 50%;\n",
              "    cursor: pointer;\n",
              "    display: none;\n",
              "    fill: var(--fill-color);\n",
              "    height: 32px;\n",
              "    padding: 0;\n",
              "    width: 32px;\n",
              "  }\n",
              "\n",
              "  .colab-df-quickchart:hover {\n",
              "    background-color: var(--hover-bg-color);\n",
              "    box-shadow: 0 1px 2px rgba(60, 64, 67, 0.3), 0 1px 3px 1px rgba(60, 64, 67, 0.15);\n",
              "    fill: var(--button-hover-fill-color);\n",
              "  }\n",
              "\n",
              "  .colab-df-quickchart-complete:disabled,\n",
              "  .colab-df-quickchart-complete:disabled:hover {\n",
              "    background-color: var(--disabled-bg-color);\n",
              "    fill: var(--disabled-fill-color);\n",
              "    box-shadow: none;\n",
              "  }\n",
              "\n",
              "  .colab-df-spinner {\n",
              "    border: 2px solid var(--fill-color);\n",
              "    border-color: transparent;\n",
              "    border-bottom-color: var(--fill-color);\n",
              "    animation:\n",
              "      spin 1s steps(1) infinite;\n",
              "  }\n",
              "\n",
              "  @keyframes spin {\n",
              "    0% {\n",
              "      border-color: transparent;\n",
              "      border-bottom-color: var(--fill-color);\n",
              "      border-left-color: var(--fill-color);\n",
              "    }\n",
              "    20% {\n",
              "      border-color: transparent;\n",
              "      border-left-color: var(--fill-color);\n",
              "      border-top-color: var(--fill-color);\n",
              "    }\n",
              "    30% {\n",
              "      border-color: transparent;\n",
              "      border-left-color: var(--fill-color);\n",
              "      border-top-color: var(--fill-color);\n",
              "      border-right-color: var(--fill-color);\n",
              "    }\n",
              "    40% {\n",
              "      border-color: transparent;\n",
              "      border-right-color: var(--fill-color);\n",
              "      border-top-color: var(--fill-color);\n",
              "    }\n",
              "    60% {\n",
              "      border-color: transparent;\n",
              "      border-right-color: var(--fill-color);\n",
              "    }\n",
              "    80% {\n",
              "      border-color: transparent;\n",
              "      border-right-color: var(--fill-color);\n",
              "      border-bottom-color: var(--fill-color);\n",
              "    }\n",
              "    90% {\n",
              "      border-color: transparent;\n",
              "      border-bottom-color: var(--fill-color);\n",
              "    }\n",
              "  }\n",
              "</style>\n",
              "\n",
              "  <script>\n",
              "    async function quickchart(key) {\n",
              "      const quickchartButtonEl =\n",
              "        document.querySelector('#' + key + ' button');\n",
              "      quickchartButtonEl.disabled = true;  // To prevent multiple clicks.\n",
              "      quickchartButtonEl.classList.add('colab-df-spinner');\n",
              "      try {\n",
              "        const charts = await google.colab.kernel.invokeFunction(\n",
              "            'suggestCharts', [key], {});\n",
              "      } catch (error) {\n",
              "        console.error('Error during call to suggestCharts:', error);\n",
              "      }\n",
              "      quickchartButtonEl.classList.remove('colab-df-spinner');\n",
              "      quickchartButtonEl.classList.add('colab-df-quickchart-complete');\n",
              "    }\n",
              "    (() => {\n",
              "      let quickchartButtonEl =\n",
              "        document.querySelector('#df-70ee2516-ba36-4298-b51b-79361c6c2917 button');\n",
              "      quickchartButtonEl.style.display =\n",
              "        google.colab.kernel.accessAllowed ? 'block' : 'none';\n",
              "    })();\n",
              "  </script>\n",
              "</div>\n",
              "    </div>\n",
              "  </div>\n"
            ],
            "text/plain": [
              "      category                                              texts  length\n",
              "12040      neu                         มาไวๆ ไม่งั้นซีวิคกินเรียบ       8\n",
              "18732      neu                           ลำดับที่6 ขี้โม้หน่อย555       7\n",
              "19580      neu    ได้เเดกเเล้วววววววววววววววววววววววววววววววววววว       4\n",
              "3085       neu                                           เห็นแย้ว       3\n",
              "13318      neg  นี่ไม่โอเคกับ BA Nars สาขาเซนเฟสเชียงใหม่อ่ะ ค...      40"
            ]
          },
          "execution_count": 51,
          "metadata": {},
          "output_type": "execute_result"
        }
      ],
      "source": [
        "train_df.sample(n=5)"
      ]
    },
    {
      "cell_type": "code",
      "execution_count": 52,
      "metadata": {
        "id": "4J-2oigNWrn9"
      },
      "outputs": [],
      "source": [
        "def recall_m(y_true, y_pred):\n",
        "    true_positives = K.sum(K.round(K.clip(y_true * y_pred, 0, 1)))\n",
        "    possible_positives = K.sum(K.round(K.clip(y_true, 0, 1)))\n",
        "    recall = true_positives / (possible_positives + K.epsilon())\n",
        "    return recall\n",
        "\n",
        "def precision_m(y_true, y_pred):\n",
        "    true_positives = K.sum(K.round(K.clip(y_true * y_pred, 0, 1)))\n",
        "    predicted_positives = K.sum(K.round(K.clip(y_pred, 0, 1)))\n",
        "    precision = true_positives / (predicted_positives + K.epsilon())\n",
        "    return precision\n",
        "\n",
        "def f1_m(y_true, y_pred):\n",
        "    precision = precision_m(y_true, y_pred)\n",
        "    recall = recall_m(y_true, y_pred)\n",
        "    return 2*((precision*recall)/(precision+recall+K.epsilon()))"
      ]
    },
    {
      "cell_type": "markdown",
      "metadata": {
        "id": "pyyvDRbXEX2t"
      },
      "source": [
        "### **Preprocess**\n"
      ]
    },
    {
      "cell_type": "markdown",
      "metadata": {
        "id": "wiOA53MC3h-7"
      },
      "source": [
        "#### Tokenizer\n",
        "Before training, I converted text to numbers because models learn only from numerical. Breaking down long sentences into individual words   simplify the learning process of the model\n"
      ]
    },
    {
      "cell_type": "markdown",
      "metadata": {
        "id": "4Go3pwPDR4We"
      },
      "source": [
        "for example"
      ]
    },
    {
      "cell_type": "code",
      "execution_count": 53,
      "metadata": {
        "colab": {
          "base_uri": "https://localhost:8080/"
        },
        "id": "5ldbd7IUR8lT",
        "outputId": "55e3bc96-ecc5-40d5-c47e-f0ad9b1d6717"
      },
      "outputs": [
        {
          "data": {
            "text/plain": [
              "['ประเทศ',\n",
              " 'เรา',\n",
              " 'ผลิต',\n",
              " 'และ',\n",
              " 'ส่งออก',\n",
              " 'ยาสูบ',\n",
              " 'เยอะ',\n",
              " 'สุด',\n",
              " 'ใน',\n",
              " 'โลก',\n",
              " 'จิง',\n",
              " 'ป่าว',\n",
              " 'คับ']"
            ]
          },
          "execution_count": 53,
          "metadata": {},
          "output_type": "execute_result"
        }
      ],
      "source": [
        "train_df['texts'][0]\n",
        "word_tokenize(train_df['texts'][0])"
      ]
    },
    {
      "cell_type": "code",
      "execution_count": 54,
      "metadata": {
        "id": "7-ijERQrA6MV"
      },
      "outputs": [],
      "source": [
        "import re"
      ]
    },
    {
      "cell_type": "code",
      "execution_count": 26,
      "metadata": {
        "id": "ASWlyjfaA2LB"
      },
      "outputs": [],
      "source": [
        "# def preprocess_tokens(tokens):\n",
        "#     # Remove tokens where any character repeats two or three times consecutively\n",
        "#     processed_tokens = [re.sub(r'(.)\\1{1,3}', '', token) for token in tokens]\n",
        "#     # Remove empty tokens (if any)\n",
        "#     processed_tokens = [token for token in processed_tokens if token.strip()]\n",
        "#     return processed_tokens\n"
      ]
    },
    {
      "cell_type": "code",
      "execution_count": 55,
      "metadata": {
        "id": "MybFzqISA3Ai"
      },
      "outputs": [],
      "source": [
        "# Tokenize using pythainlp\n",
        "train_df['tokenized_texts'] = train_df['texts'].apply(word_tokenize)\n"
      ]
    },
    {
      "cell_type": "code",
      "execution_count": 56,
      "metadata": {
        "colab": {
          "base_uri": "https://localhost:8080/"
        },
        "id": "ht28k1w56Bhb",
        "outputId": "79b49a81-dd50-458a-ab2b-6d80b231a724"
      },
      "outputs": [
        {
          "data": {
            "text/plain": [
              "0        [ประเทศ, เรา, ผลิต, และ, ส่งออก, ยาสูบ, เยอะ, ...\n",
              "2            [อิ, เหี้ย, ออม, ทำ, กู, อยาก, กิน, เอ็ม, เค]\n",
              "4                        [สวัสดี, วัน, พุธ, แนน, อะไร, นะ]\n",
              "5        [ก้อน, ขอบพระคุณ, มาก, ๆ, นะ, คร้าบ, ที่, มาหา...\n",
              "7                            [ปาก, แดง, กิน, ฟรี, ค่ะ, 😬😬]\n",
              "                               ...                        \n",
              "23540                             [แม่, ง, ควาย, ล้วน, นน]\n",
              "23541     [ดอย, สุเทพ, น้อง, ง, ไป, หมด, แล้ว, ววว, #pm25]\n",
              "23542                 [ค่า, ชุด, อาจจะ, แพง, กว่า, ส่วนลด]\n",
              "23543                      [รัฐ, ต้องการ, แค่, ภาษี, ครับ]\n",
              "23544    [™, ได้, พัฒนา, ระบบ, เข้าสู่, รุ่น, ที่สอง, แ...\n",
              "Name: tokenized_texts, Length: 21941, dtype: object"
            ]
          },
          "execution_count": 56,
          "metadata": {},
          "output_type": "execute_result"
        }
      ],
      "source": [
        "train_df['tokenized_texts'] = train_df['tokenized_texts'].apply(lambda tokens: [token.strip() for token in tokens if token.strip()])\n",
        "train_df['tokenized_texts']\n"
      ]
    },
    {
      "cell_type": "code",
      "execution_count": 57,
      "metadata": {
        "colab": {
          "base_uri": "https://localhost:8080/"
        },
        "id": "-T2qkSErSNnX",
        "outputId": "49312399-23c6-44a0-842a-0b0c43519470"
      },
      "outputs": [
        {
          "name": "stdout",
          "output_type": "stream",
          "text": [
            "Maximum Sequence Length: 91\n"
          ]
        }
      ],
      "source": [
        "# Create a dictionary mapping words to unique integer indices\n",
        "word_index = {}\n",
        "for words_list in train_df['tokenized_texts']:\n",
        "    for word in words_list:\n",
        "        if word not in word_index:\n",
        "            word_index[word] = len(word_index) + 1  # Start indexing from 1\n",
        "\n",
        "# Convert the text sequences to integer sequences based on the word_index\n",
        "train_df['sequences'] = train_df['tokenized_texts'].apply(lambda words_list: [word_index[word] for word in words_list])\n",
        "\n",
        "# Get the maximum sequence length\n",
        "max_length = max(len(sequence) for sequence in train_df['sequences'])\n",
        "print(\"Maximum Sequence Length:\", max_length)"
      ]
    },
    {
      "cell_type": "markdown",
      "metadata": {
        "id": "-4m1KjYVSSFo"
      },
      "source": [
        "### Padding sequence\n",
        "\n",
        "<li> help us receive input text sentences with different range for training with neural network that have to fixed size input by multiplying input method like zero padding\n"
      ]
    },
    {
      "cell_type": "markdown",
      "metadata": {
        "id": "-b1c1QoXSdP9"
      },
      "source": [
        "for example"
      ]
    },
    {
      "cell_type": "markdown",
      "metadata": {
        "id": "RuB_k_s2Si3p"
      },
      "source": [
        "Original Sequence 1: `[1, 2, 3]` | Padded Sequence 1: `[0, 1, 2, 3]`\n",
        "\n",
        "Original Sequence 2: `[4, 5]` | Padded Sequence 2: `[0, 0, 4, 5]`\n",
        "\n"
      ]
    },
    {
      "cell_type": "code",
      "execution_count": 58,
      "metadata": {
        "colab": {
          "base_uri": "https://localhost:8080/"
        },
        "id": "9txabGTFRgs3",
        "outputId": "6355e147-70e4-4c6c-f71c-dd67bd54a977"
      },
      "outputs": [
        {
          "data": {
            "text/plain": [
              "array([ 0,  0,  0,  0,  0,  0,  0,  0,  0,  0,  0,  0,  0,  0,  0,  0,  0,\n",
              "        0,  0,  0,  0,  0,  0,  0,  0,  0,  0,  0,  0,  0,  0,  0,  0,  0,\n",
              "        0,  0,  0,  0,  0,  0,  0,  0,  0,  0,  0,  0,  0,  0,  0,  0,  0,\n",
              "        0,  0,  0,  0,  0,  0,  0,  0,  0,  0,  0,  0,  0,  0,  0,  0,  0,\n",
              "        0,  0,  0,  0,  0,  0,  0,  0,  0,  0,  1,  2,  3,  4,  5,  6,  7,\n",
              "        8,  9, 10, 11, 12, 13], dtype=int32)"
            ]
          },
          "execution_count": 58,
          "metadata": {},
          "output_type": "execute_result"
        }
      ],
      "source": [
        "# Padding sequences\n",
        "X = pad_sequences(train_df['sequences'], maxlen=max_length)\n",
        "X[0]"
      ]
    },
    {
      "cell_type": "code",
      "execution_count": 59,
      "metadata": {
        "colab": {
          "base_uri": "https://localhost:8080/"
        },
        "id": "3I-aBv1qgqpU",
        "outputId": "055cfd97-f5df-47a9-ed61-2a5419266619"
      },
      "outputs": [
        {
          "data": {
            "text/plain": [
              "(21941, 91)"
            ]
          },
          "execution_count": 59,
          "metadata": {},
          "output_type": "execute_result"
        }
      ],
      "source": [
        "X.shape"
      ]
    },
    {
      "cell_type": "code",
      "execution_count": 60,
      "metadata": {
        "id": "FEdUMDsYiVRh"
      },
      "outputs": [],
      "source": [
        "label_mapping = {'neg': 0, 'neu': 1, 'pos': 2}\n",
        "y_num = train_df['category'].map(label_mapping)"
      ]
    },
    {
      "cell_type": "code",
      "execution_count": 61,
      "metadata": {
        "colab": {
          "base_uri": "https://localhost:8080/"
        },
        "id": "iTiB1rjeI1za",
        "outputId": "70236449-0330-4902-a012-4c61b153ee32"
      },
      "outputs": [
        {
          "name": "stdout",
          "output_type": "stream",
          "text": [
            "       labels                                              texts\n",
            "0           1  ประเทศเราผลิตและส่งออกยาสูบเยอะสุดในโลกจิงป่าวคับ\n",
            "2           0                        อิเหี้ยออมทำกูอยากกินเอ็มเค\n",
            "4           1                            สวัสดีวันพุธ แนน อะไรนะ\n",
            "5           1  ก้อนขอบพระคุณมากๆนะคร้าบ ที่มาหาก้อนและชมเชยกา...\n",
            "7           1                                 ปากแดงกินฟรีค่ะ 😬😬\n",
            "...       ...                                                ...\n",
            "23540       0                                     แม่งควายล้วนนน\n",
            "23541       0                   ดอยสุเทพน้องง ไปหมดแล้วววว #pm25\n",
            "23542       0                           ค่าชุดอาจจะแพงกว่าส่วนลด\n",
            "23543       1                              รัฐต้องการแค่ภาษีครับ\n",
            "23544       1  ™ ได้พัฒนาระบบเข้าสู่รุ่นที่สองแล้ว มาดูกันสิว...\n",
            "\n",
            "[21941 rows x 2 columns]\n"
          ]
        }
      ],
      "source": [
        "train_df['labels'] = train_df['category'].map(label_mapping)\n",
        "print(train_df[['labels', 'texts']])\n"
      ]
    },
    {
      "cell_type": "code",
      "execution_count": 62,
      "metadata": {
        "colab": {
          "base_uri": "https://localhost:8080/"
        },
        "id": "n-u2tPxAoJhK",
        "outputId": "7818f3e6-01ca-4a81-d450-7df30cad1e49"
      },
      "outputs": [
        {
          "data": {
            "text/plain": [
              "array([0, 1, 2])"
            ]
          },
          "execution_count": 62,
          "metadata": {},
          "output_type": "execute_result"
        }
      ],
      "source": [
        "np.unique(y_num)"
      ]
    },
    {
      "cell_type": "markdown",
      "metadata": {
        "id": "5X9r4w3ERgs3"
      },
      "source": [
        "For the process of changing numerical labels to one-hot vectors:\n",
        "\n",
        "1. Utilize `to_categorical` to convert numerical labels to one-hot encoded vectors.\n",
        "2. For instance:\n",
        "   - 'positive' is represented as [0, 0, 1]\n",
        "   - 'negative' is represented as [1, 0, 0]\n",
        "   - 'neutral' is represented as [0, 1, 0]"
      ]
    },
    {
      "cell_type": "code",
      "execution_count": 63,
      "metadata": {
        "colab": {
          "base_uri": "https://localhost:8080/"
        },
        "id": "m2kQLm3Y_b3e",
        "outputId": "0accb667-2f03-495f-a592-4349f356694c"
      },
      "outputs": [
        {
          "name": "stdout",
          "output_type": "stream",
          "text": [
            "Vocabulary size: 23818\n"
          ]
        }
      ],
      "source": [
        "y = to_categorical(y_num)\n",
        "\n",
        "# Vocabulary size\n",
        "vocab_size = len(word_index) + 1\n",
        "print(\"Vocabulary size:\", vocab_size)\n"
      ]
    },
    {
      "cell_type": "code",
      "execution_count": 64,
      "metadata": {
        "colab": {
          "base_uri": "https://localhost:8080/"
        },
        "id": "jqMAImfMooQT",
        "outputId": "d71f8f72-4cc4-4e0f-acad-1f2768536dd5"
      },
      "outputs": [
        {
          "data": {
            "text/plain": [
              "(21941, 3)"
            ]
          },
          "execution_count": 64,
          "metadata": {},
          "output_type": "execute_result"
        }
      ],
      "source": [
        "y.shape"
      ]
    },
    {
      "cell_type": "code",
      "execution_count": 65,
      "metadata": {
        "colab": {
          "base_uri": "https://localhost:8080/"
        },
        "id": "onhKGg4l88Bw",
        "outputId": "981f6628-cb54-4095-81fa-3fab8b23556b"
      },
      "outputs": [
        {
          "data": {
            "text/plain": [
              "0        [ประเทศ, เรา, ผลิต, และ, ส่งออก, ยาสูบ, เยอะ, ...\n",
              "2            [อิ, เหี้ย, ออม, ทำ, กู, อยาก, กิน, เอ็ม, เค]\n",
              "4                        [สวัสดี, วัน, พุธ, แนน, อะไร, นะ]\n",
              "5        [ก้อน, ขอบพระคุณ, มาก, ๆ, นะ, คร้าบ, ที่, มาหา...\n",
              "7                            [ปาก, แดง, กิน, ฟรี, ค่ะ, 😬😬]\n",
              "                               ...                        \n",
              "23540                             [แม่, ง, ควาย, ล้วน, นน]\n",
              "23541     [ดอย, สุเทพ, น้อง, ง, ไป, หมด, แล้ว, ววว, #pm25]\n",
              "23542                 [ค่า, ชุด, อาจจะ, แพง, กว่า, ส่วนลด]\n",
              "23543                      [รัฐ, ต้องการ, แค่, ภาษี, ครับ]\n",
              "23544    [™, ได้, พัฒนา, ระบบ, เข้าสู่, รุ่น, ที่สอง, แ...\n",
              "Name: tokenized_texts, Length: 21941, dtype: object"
            ]
          },
          "execution_count": 65,
          "metadata": {},
          "output_type": "execute_result"
        }
      ],
      "source": [
        "train_df['tokenized_texts']"
      ]
    },
    {
      "cell_type": "markdown",
      "metadata": {
        "id": "4Anf9uM9TjNq"
      },
      "source": [
        "## \"LSTM\" Model\n",
        "\n",
        "  Reason why picking up lstm\n",
        "\n",
        "- LSTM suitable for sequential data, like sentiment analysis \"LSTM is designed to capture long range dependency\"\n",
        "\n",
        "- LSTM handling vanishing gradient; memory cell, forget gate, residual connection to help the network remember the previous sentences and forgot unneccessary input and skip connection to prevent vanishing gradient when sentences is long.\n",
        "\n",
        "- Memory cell, LSTM can store and retrieve information over long periods so it will allow to remember contextual information"
      ]
    },
    {
      "cell_type": "markdown",
      "metadata": {
        "id": "iHc6kzz7Rgs4"
      },
      "source": [
        "How's LSTM work\n",
        "\n",
        "1. Input Sequences: the input sequences consists of sequence of words. Each words represent as a vector\n",
        "\n",
        "2. Sequence processing: LSTM process the input one element at a time so it can capture information from earlier parts of the sentences\n",
        "\n",
        "3. Memory Cells: select remember or forget information over long sequences\n",
        "\n",
        "4. Gates: LSTM gate control the information in and out\n",
        "    Input Gate: Decides which information to add to the memory cell.\n",
        "    Forget Gate: Decides which information to discard from the memory cell.\n",
        "    Output Gate: Decides what to output based on the current input and the memory cell's content.\n",
        "5. Backpropagation Through Time\n",
        "    It propagates the error back through the entire sequence, updating the weights at each time step to improve the model's performance."
      ]
    },
    {
      "cell_type": "markdown",
      "metadata": {
        "id": "KOLhnJXHpYga"
      },
      "source": [
        "Model architecture\n",
        "\n",
        "Bidirectional LSTM: help the model can read the sentences from the front and backward before decided what it will keep and what it will be in forgot gate.\n",
        "Since my data is relatively long sentences, i think Bidirectional will help to classify the text and it will be help to capture contextual information"
      ]
    },
    {
      "cell_type": "code",
      "execution_count": 66,
      "metadata": {
        "id": "0FOVn2mKWrn-"
      },
      "outputs": [],
      "source": [
        "initial_learning_rate = 1e-3\n",
        "lr_schedule = ExponentialDecay(\n",
        "    initial_learning_rate=initial_learning_rate,\n",
        "    decay_steps=10000,\n",
        "    decay_rate=0.9\n",
        ")\n",
        "\n",
        "model = Sequential([\n",
        "    Embedding(input_dim=vocab_size, output_dim=128, input_length=max_length),\n",
        "    SpatialDropout1D(0.2),\n",
        "    Bidirectional(LSTM(50, dropout=0.2, recurrent_dropout=0, return_sequences=True)),\n",
        "    BatchNormalization(),\n",
        "    Bidirectional(LSTM(50, dropout=0.2, recurrent_dropout=0)),\n",
        "    BatchNormalization(),\n",
        "    Dense(64, activation='tanh', kernel_regularizer=l2(0.01)),\n",
        "    Dense(3, activation='softmax')\n",
        "])\n",
        "optimizer = Adam(learning_rate=initial_learning_rate)\n",
        "\n",
        "model.compile(loss='categorical_crossentropy', optimizer=optimizer, metrics=['acc',f1_m,precision_m, recall_m])\n"
      ]
    },
    {
      "cell_type": "code",
      "execution_count": 67,
      "metadata": {
        "colab": {
          "base_uri": "https://localhost:8080/"
        },
        "id": "CqyRFiMJWrn-",
        "outputId": "ec551062-a71c-4d59-acda-36a6699fa853"
      },
      "outputs": [
        {
          "name": "stdout",
          "output_type": "stream",
          "text": [
            "Model: \"sequential_1\"\n",
            "_________________________________________________________________\n",
            " Layer (type)                Output Shape              Param #   \n",
            "=================================================================\n",
            " embedding_1 (Embedding)     (None, 91, 128)           3048704   \n",
            "                                                                 \n",
            " spatial_dropout1d_1 (Spati  (None, 91, 128)           0         \n",
            " alDropout1D)                                                    \n",
            "                                                                 \n",
            " bidirectional_2 (Bidirecti  (None, 91, 100)           71600     \n",
            " onal)                                                           \n",
            "                                                                 \n",
            " batch_normalization_2 (Bat  (None, 91, 100)           400       \n",
            " chNormalization)                                                \n",
            "                                                                 \n",
            " bidirectional_3 (Bidirecti  (None, 100)               60400     \n",
            " onal)                                                           \n",
            "                                                                 \n",
            " batch_normalization_3 (Bat  (None, 100)               400       \n",
            " chNormalization)                                                \n",
            "                                                                 \n",
            " dense_2 (Dense)             (None, 64)                6464      \n",
            "                                                                 \n",
            " dense_3 (Dense)             (None, 3)                 195       \n",
            "                                                                 \n",
            "=================================================================\n",
            "Total params: 3188163 (12.16 MB)\n",
            "Trainable params: 3187763 (12.16 MB)\n",
            "Non-trainable params: 400 (1.56 KB)\n",
            "_________________________________________________________________\n"
          ]
        }
      ],
      "source": [
        "model.summary()"
      ]
    },
    {
      "cell_type": "markdown",
      "metadata": {
        "id": "wgj4iztiRgs4"
      },
      "source": [
        "### Training"
      ]
    },
    {
      "cell_type": "markdown",
      "metadata": {
        "id": "kjw6-XrYRgs4"
      },
      "source": [
        "#### Class Weight\n",
        "- Using class weights to address class imbalance in the dataset ensures that the model gives higher weight to minority classes, preventing them from being overshadowed by the majority class.\n"
      ]
    },
    {
      "cell_type": "code",
      "execution_count": 68,
      "metadata": {
        "id": "aUQfvBvqG42K"
      },
      "outputs": [],
      "source": [
        "early_stopping = EarlyStopping(monitor='val_f1_m', patience=10, restore_best_weights=True)\n",
        "\n",
        "X_train, X_val, y_train, y_val = train_test_split(X, y, test_size=0.2, random_state=42)\n",
        "\n",
        "class_weights = compute_class_weight(\n",
        "                                        class_weight = \"balanced\",\n",
        "                                        classes = np.unique(y_num),  # numerical\n",
        "                                        y = y_num # numerical\n",
        "                                    )\n",
        "class_weights_dict = dict(zip(np.unique(y_num), class_weights))"
      ]
    },
    {
      "cell_type": "code",
      "execution_count": 69,
      "metadata": {
        "colab": {
          "base_uri": "https://localhost:8080/"
        },
        "id": "kULmMKmXG64C",
        "outputId": "7b1ca9a9-02f1-4983-cb89-bce6aa5767d5"
      },
      "outputs": [
        {
          "data": {
            "text/plain": [
              "{0: 1.2279494067606895, 1: 0.6149555761091959, 2: 1.787308569566634}"
            ]
          },
          "execution_count": 69,
          "metadata": {},
          "output_type": "execute_result"
        }
      ],
      "source": [
        "class_weights_dict"
      ]
    },
    {
      "cell_type": "code",
      "execution_count": 70,
      "metadata": {
        "colab": {
          "base_uri": "https://localhost:8080/"
        },
        "id": "kKtTt4pPWrn_",
        "outputId": "4bc346a6-3be7-4e5b-b884-df587d117bc4"
      },
      "outputs": [
        {
          "name": "stdout",
          "output_type": "stream",
          "text": [
            "Epoch 1/100\n",
            "549/549 [==============================] - 45s 67ms/step - loss: 1.2609 - acc: 0.5647 - f1_m: 0.5197 - precision_m: 0.6048 - recall_m: 0.4595 - val_loss: 0.9476 - val_acc: 0.6179 - val_f1_m: 0.5790 - val_precision_m: 0.6666 - val_recall_m: 0.5139\n",
            "Epoch 2/100\n",
            "549/549 [==============================] - 17s 31ms/step - loss: 0.7110 - acc: 0.7215 - f1_m: 0.7108 - precision_m: 0.7485 - recall_m: 0.6778 - val_loss: 0.8077 - val_acc: 0.6655 - val_f1_m: 0.6589 - val_precision_m: 0.6845 - val_recall_m: 0.6360\n",
            "Epoch 3/100\n",
            "549/549 [==============================] - 16s 30ms/step - loss: 0.4864 - acc: 0.8021 - f1_m: 0.7983 - precision_m: 0.8175 - recall_m: 0.7806 - val_loss: 0.8318 - val_acc: 0.6455 - val_f1_m: 0.6434 - val_precision_m: 0.6610 - val_recall_m: 0.6272\n",
            "Epoch 4/100\n",
            "549/549 [==============================] - 16s 29ms/step - loss: 0.3763 - acc: 0.8431 - f1_m: 0.8425 - precision_m: 0.8547 - recall_m: 0.8311 - val_loss: 0.9438 - val_acc: 0.6357 - val_f1_m: 0.6293 - val_precision_m: 0.6434 - val_recall_m: 0.6162\n",
            "Epoch 5/100\n",
            "549/549 [==============================] - 15s 26ms/step - loss: 0.3053 - acc: 0.8757 - f1_m: 0.8753 - precision_m: 0.8834 - recall_m: 0.8677 - val_loss: 0.9517 - val_acc: 0.6507 - val_f1_m: 0.6486 - val_precision_m: 0.6585 - val_recall_m: 0.6392\n",
            "Epoch 6/100\n",
            "549/549 [==============================] - 15s 27ms/step - loss: 0.2511 - acc: 0.8973 - f1_m: 0.8976 - precision_m: 0.9030 - recall_m: 0.8925 - val_loss: 1.0920 - val_acc: 0.6619 - val_f1_m: 0.6626 - val_precision_m: 0.6702 - val_recall_m: 0.6555\n",
            "Epoch 7/100\n",
            "549/549 [==============================] - 15s 27ms/step - loss: 0.2260 - acc: 0.9073 - f1_m: 0.9073 - precision_m: 0.9114 - recall_m: 0.9032 - val_loss: 1.1418 - val_acc: 0.6548 - val_f1_m: 0.6534 - val_precision_m: 0.6585 - val_recall_m: 0.6485\n",
            "Epoch 8/100\n",
            "549/549 [==============================] - 14s 26ms/step - loss: 0.2008 - acc: 0.9178 - f1_m: 0.9174 - precision_m: 0.9204 - recall_m: 0.9144 - val_loss: 1.2091 - val_acc: 0.6523 - val_f1_m: 0.6516 - val_precision_m: 0.6554 - val_recall_m: 0.6479\n",
            "Epoch 9/100\n",
            "549/549 [==============================] - 14s 26ms/step - loss: 0.1751 - acc: 0.9290 - f1_m: 0.9287 - precision_m: 0.9314 - recall_m: 0.9261 - val_loss: 1.1966 - val_acc: 0.6803 - val_f1_m: 0.6793 - val_precision_m: 0.6817 - val_recall_m: 0.6770\n",
            "Epoch 10/100\n",
            "549/549 [==============================] - 14s 26ms/step - loss: 0.1744 - acc: 0.9302 - f1_m: 0.9305 - precision_m: 0.9328 - recall_m: 0.9284 - val_loss: 1.3191 - val_acc: 0.6464 - val_f1_m: 0.6468 - val_precision_m: 0.6507 - val_recall_m: 0.6432\n",
            "Epoch 11/100\n",
            "549/549 [==============================] - 14s 26ms/step - loss: 0.1608 - acc: 0.9365 - f1_m: 0.9363 - precision_m: 0.9381 - recall_m: 0.9347 - val_loss: 1.2380 - val_acc: 0.6662 - val_f1_m: 0.6674 - val_precision_m: 0.6708 - val_recall_m: 0.6641\n"
          ]
        }
      ],
      "source": [
        "history = model.fit(X_train, y_train, epochs=100, batch_size=32, validation_data=(X_val, y_val), callbacks=[early_stopping], class_weight=class_weights_dict)\n"
      ]
    },
    {
      "cell_type": "markdown",
      "metadata": {
        "id": "BaSu5Y_JRgs4"
      },
      "source": [
        "#### Evaluation"
      ]
    },
    {
      "cell_type": "markdown",
      "metadata": {
        "id": "aiA5rIC_Rgs5"
      },
      "source": [
        "- **Evaluation Summarization:**\n",
        "  - Due to the inherent imbalance in my dataset, the focus of the evaluation is on key metrics including precision, F1-score, and recall.\n",
        "    - Precision: Measuring the accuracy of positive predictions.(How well model predict)\n",
        "    - F1-score: Balancing precision and recall, particularly important in imbalanced datasets.\n",
        "    - Recall: Capturing the ability to identify all relevant instances, especially vital for minority classes.\n"
      ]
    },
    {
      "cell_type": "code",
      "execution_count": 71,
      "metadata": {
        "colab": {
          "base_uri": "https://localhost:8080/"
        },
        "id": "ntIInp4cqDBP",
        "outputId": "0b7be382-82ad-4a61-9e59-f14c319f3915"
      },
      "outputs": [
        {
          "name": "stdout",
          "output_type": "stream",
          "text": [
            "138/138 [==============================] - 2s 13ms/step - loss: 0.9476 - acc: 0.6179 - f1_m: 0.5790 - precision_m: 0.6666 - recall_m: 0.5139\n"
          ]
        }
      ],
      "source": [
        "score = model.evaluate(X_val, y_val, verbose=1, batch_size=32)\n"
      ]
    },
    {
      "cell_type": "code",
      "execution_count": 76,
      "metadata": {
        "id": "9dHX5NXWH3Cj"
      },
      "outputs": [],
      "source": [
        "test_df = pd.read_csv('test.csv')"
      ]
    },
    {
      "cell_type": "code",
      "execution_count": 77,
      "metadata": {
        "id": "fbGsau5BsWJy"
      },
      "outputs": [],
      "source": [
        "test_df['tokenized_texts'] = test_df['texts'].apply(word_tokenize)\n",
        "\n",
        "# Convert the text sequences to integer sequences based on the existing word_index\n",
        "test_df['sequences'] = test_df['tokenized_texts'].apply(lambda words_list: [word_index.get(word, 0) for word in words_list])\n",
        "\n",
        "# Padding sequences\n",
        "X_test = pad_sequences(test_df['sequences'], maxlen=max_length)\n",
        "\n",
        "test_labels = test_df['category'].map(label_mapping)\n",
        "y_test = to_categorical(test_labels)\n"
      ]
    },
    {
      "cell_type": "code",
      "execution_count": 78,
      "metadata": {
        "colab": {
          "base_uri": "https://localhost:8080/"
        },
        "id": "6TucYpm_Hm1Z",
        "outputId": "6c16cac5-cf2b-4a56-f503-2e81cc9ab763"
      },
      "outputs": [
        {
          "name": "stdout",
          "output_type": "stream",
          "text": [
            "84/84 [==============================] - 2s 9ms/step\n"
          ]
        }
      ],
      "source": [
        "predictions = model.predict(X_test)\n",
        "\n",
        "predicted_labels = np.argmax(predictions, axis=1)"
      ]
    },
    {
      "cell_type": "code",
      "execution_count": 79,
      "metadata": {
        "id": "JuRZGEhaV3ou"
      },
      "outputs": [],
      "source": [
        "y_test_original = np.argmax(y_test, axis=1)\n"
      ]
    },
    {
      "cell_type": "code",
      "execution_count": 80,
      "metadata": {
        "colab": {
          "base_uri": "https://localhost:8080/",
          "height": 564
        },
        "id": "0luo6t9_sn06",
        "outputId": "3ac67f74-a268-4b6a-8c79-32e18d20163f"
      },
      "outputs": [
        {
          "data": {
            "image/png": "[encoded data removed]",
            "text/plain": [
              "<Figure size 800x600 with 2 Axes>"
            ]
          },
          "metadata": {},
          "output_type": "display_data"
        }
      ],
      "source": [
        "# Evaluate classification report\n",
        "classification_report(y_test_original, predicted_labels)\n",
        "\n",
        "conf_matrix = confusion_matrix(y_test_original, predicted_labels)\n",
        "plt.figure(figsize=(8, 6))\n",
        "sns.heatmap(conf_matrix, annot=True, fmt='d', xticklabels=['neu', 'pos', 'neg'], yticklabels=['neu', 'pos', 'neg'])\n",
        "plt.title('Confusion Matrix')\n",
        "plt.xlabel('Predicted')\n",
        "plt.ylabel('True')\n",
        "plt.show()"
      ]
    },
    {
      "cell_type": "markdown",
      "metadata": {
        "id": "dkUEZjXXXN7i"
      },
      "source": [
        "### Performance evaluation"
      ]
    },
    {
      "cell_type": "markdown",
      "metadata": {
        "id": "KV5mHfjDNu88"
      },
      "source": [
        "<li> Check for the model predict wrong classes"
      ]
    },
    {
      "cell_type": "code",
      "execution_count": 81,
      "metadata": {
        "colab": {
          "base_uri": "https://localhost:8080/"
        },
        "id": "yg-ioGWKN0kr",
        "outputId": "9d44e38f-f928-461b-c5a0-e104bfa91009"
      },
      "outputs": [
        {
          "name": "stdout",
          "output_type": "stream",
          "text": [
            "Index: 0\n",
            "Predicted Probabilities: 0.87281114\n",
            "Predicted Class: 0\n",
            "True Class: 1\n",
            "Text: ซื้อแต่ผ้าอนามัยแบบเย็นมาค่ะ แบบว่าอีห่ากูนอนไม่ได้\n",
            "\n",
            "\n",
            "Index: 5\n",
            "Predicted Probabilities: 0.4689116\n",
            "Predicted Class: 2\n",
            "True Class: 0\n",
            "Text: เคล็ดลับที่ขาดไม่ได้ในการป้องกันผิวจากแสงแดด คือการทาครีมกันแดด สาวๆบ้างคนอาจจะคิดว่ามันไม่ใช่เรื่องสำคัญเท่าไหร่ แต่บอกเลยว่า ผิดมาก เพราะแสงแดดสมัยนี้แรงมาก และมีอนุภาพการทำลายผิวสูงมาก ถ้าไม่อยากให้ผิวเราถูกทำร้ายแบบซ้ำๆซาก ควรทาครีมกันแดดที่ดีมีคุณภาพอย่าง Eucerin Sun Age Repair Serum ปัจจุบันครีมกันแดดมีมากมายให้เราเลือกซื้อก็จริง แต่ก็อย่าลืมเลือกสิ่งที่ดีที่สุดให้ตัวเราอย่าง Eucerin Sun Acne oil Control ค่ะ\n",
            "\n",
            "\n",
            "Index: 6\n",
            "Predicted Probabilities: 0.6679482\n",
            "Predicted Class: 0\n",
            "True Class: 1\n",
            "Text: สำหรับสูตรของผม คือ Jack Daniel's หวานซ่อนเปรี้ยวชื่อ Jack Yellow Life ส่วนประกอบ Jack Daniel's 2 ชอท น้ำเก๊กฮวย น้ำมะนาว ใบมิ้นท์ เกลือเล็กน้อย วิธีปรุง นำ JackDaniel's มาเขย่ากับน้ำเก๊กฮวย เจือด้วยน้ำมะนาวบางๆ ตกแต่งด้วยใบมิ้น เสริฟด้วยแก้วที่ทาเกลือไว้ที่ปากแก้ว รสชาติที่จะได้คือหวาน หอม ซ่อนเปรี้ยว ด้วยคอนเซ็ปว่านี่แหละคือชีวิต จะหวานอย่างเดียวก็จะเลี่ยนไป จะเปรี้ยวเกินไปก็ไม่ใช่เรื่อง จึงควรจะมีทั้งเปรี้ยว ทั้งหวานคละเคล้ากันไปครับ\n",
            "\n",
            "\n",
            "Index: 9\n",
            "Predicted Probabilities: 0.873359\n",
            "Predicted Class: 0\n",
            "True Class: 1\n",
            "Text: อิผ้าอนามัยเหิ้ย ติดทุกอย่าง ยกเว้นกางเกงใน\n",
            "\n",
            "\n",
            "Index: 10\n",
            "Predicted Probabilities: 0.9454937\n",
            "Predicted Class: 0\n",
            "True Class: 2\n",
            "Text: ไอเหี้ยพวกเหี้ยถ้าไม่ได้ภาษีแม่งจับหมดไอสัส นายกก้นิ่งไม่มองดูประชาชนเลย #นี่หรือประเทศไทย\n",
            "\n",
            "\n",
            "Index: 11\n",
            "Predicted Probabilities: 0.796404\n",
            "Predicted Class: 1\n",
            "True Class: 0\n",
            "Text: #SinghaPark #SinghaParkChiangRai #SocialEnterprise #สิงห์ปาร์คเชียงราย เทศกาลแห่งความสุข 💛 มาถ่ายรูปสวยๆ ที่สิงห์ปาร์ค เชียงราย กันเถอะ! credit ig --------------------------- ***Application 'Singhapark' app ที่จะช่วยเปิดประสบการณ์การท่องเที่ยวที่สิงห์ปาร์คเชียงรายให้สนุกมากขึ้น พร้อมให้ดาวน์โหลดแล้ววันนี้ คลิกเลย ----> ios : https://appsto.re/th/s-0gdb.i android : https://play.google.com/store/apps/details?id=com.singha.singhapark\n",
            "\n",
            "\n",
            "Index: 12\n",
            "Predicted Probabilities: 0.51904875\n",
            "Predicted Class: 2\n",
            "True Class: 1\n",
            "Text: กินก่อนจ่ายทีหลังไง\n",
            "\n",
            "\n",
            "Index: 15\n",
            "Predicted Probabilities: 0.36878487\n",
            "Predicted Class: 2\n",
            "True Class: 1\n",
            "Text: สินออโต้เซอร์วิส อู่เชฟโรเลต อะไหล่เชฟโรเลต อู่ซาฟีร่า อะไหล่ซาฟีร่า ติดออยเกียร์ Cruze 1.8 ราคาเท่าไหร่ครับ ใช้ระยะเวลานานแค่ไหนคับ\n",
            "\n",
            "\n",
            "Index: 16\n",
            "Predicted Probabilities: 0.37760267\n",
            "Predicted Class: 1\n",
            "True Class: 2\n",
            "Text: ฉีด jomalone english pear มาค่ะ ป้าทักว่า \"กลิ่นเหมือนบุหรี่\" ร้องไห้...\n",
            "\n",
            "\n",
            "Index: 17\n",
            "Predicted Probabilities: 0.78251606\n",
            "Predicted Class: 2\n",
            "True Class: 0\n",
            "Text: ตู้วหูวววว กะเพราเป็ดย่างงงง\n",
            "\n",
            "\n",
            "Index: 18\n",
            "Predicted Probabilities: 0.77438515\n",
            "Predicted Class: 0\n",
            "True Class: 1\n",
            "Text: ภาคเหนือไม่ค่อยมีสาขาเลย สองมาตรฐานมาก!! เพิ่มสาขาหน่อยสิครับ\n",
            "\n",
            "\n",
            "Index: 19\n",
            "Predicted Probabilities: 0.49862507\n",
            "Predicted Class: 0\n",
            "True Class: 2\n",
            "Text: เมื่ออายุเพิ่มมากขึ้น ร่างกายก็เริ่มเสื่อมถอยตามไปด้วย สมองเองก็เช่นกัน และหากผู้สูงวัยมีอาการหลงลืม ความจำระยะสั้นไม่ดี พูดซ้ำ แก้ปัญหาไม่ได้ เสี่ยงโรคสมองเสื่อม ควรรีบเข้าพบแพทย์เพื่อเข้ารับการรักษาตั้งแต่แรกเริ่ม เพื่อดูแลตัวเองเสียตั้งแต่ตอนนี้นะคะ\n",
            "\n",
            "\n",
            "Index: 20\n",
            "Predicted Probabilities: 0.3573679\n",
            "Predicted Class: 2\n",
            "True Class: 0\n",
            "Text: ตู้ยาอายุวัฒนะเคลื่อนที่ ของดีไทยเราที่อยากบอกต่อ มาไขความลับสุขภาพดีของบรรพชน ที่มีอายุยืนยาว สุขภาพดี ร่างกายแข็งแรง เพราะเหตุใดกันรือ...วันนี้เราในฐานะอนุชนรุ่นหลังจะอยู่อย่างไรให้สมวัย...สูงวัย อย่างมีคุณภาพ พร้อมแล้วเรามาไขเคล็ดลับ อุ่นใจ...ช่วยชะลอวัย ให้ ไกลโรค... ไม่ว่าจะเป็น -ตำรับยากุลกา ยาบำรุงของทุกเพศ ทุกวัย - ตำรับยาอายุวัฒนะ บำรุงร่างกาย บำรุงสตรีเลือดน้อย - ตำรับยาลูกแปลกแม่ ตำรับยาสาวสวยในตำนาน - สูตรยาดองน้ำผึ้ง ตำรับหลานท่านเจ้าพระยาอภัยภูเบศร #ตู้ยาอายุวัฒนะ #สมุนไพรอภัยภูเบศร\n",
            "\n",
            "\n",
            "Index: 21\n",
            "Predicted Probabilities: 0.46554407\n",
            "Predicted Class: 2\n",
            "True Class: 1\n",
            "Text: มึงนอกใจแสงโสมตั้งแต่เมื่อไหร่5555\n",
            "\n",
            "\n",
            "Index: 23\n",
            "Predicted Probabilities: 0.43613735\n",
            "Predicted Class: 1\n",
            "True Class: 0\n",
            "Text: เครื่อง v6 กี่ ccครับ เพราะเห็นของที่toyota บ้านเรา เอาเข้ามา 3.5 v6 ยังปาไป ห้าล้านกว่าเลยครับ\n",
            "\n",
            "\n",
            "Index: 25\n",
            "Predicted Probabilities: 0.4545579\n",
            "Predicted Class: 1\n",
            "True Class: 2\n",
            "Text: ฟอร์ด แนะนำเทคนิคขับออฟโรดแบบง่ายๆ\n",
            "\n",
            "\n",
            "Index: 26\n",
            "Predicted Probabilities: 0.54907644\n",
            "Predicted Class: 1\n",
            "True Class: 0\n",
            "Text: มันบ่แซบ\n",
            "\n",
            "\n",
            "Index: 28\n",
            "Predicted Probabilities: 0.77352136\n",
            "Predicted Class: 0\n",
            "True Class: 2\n",
            "Text: ฝ้ายจะไม่ทน กับคนนิสัยไม่ดี\n",
            "\n",
            "\n",
            "Index: 29\n",
            "Predicted Probabilities: 0.50686693\n",
            "Predicted Class: 1\n",
            "True Class: 0\n",
            "Text: แท็กแม่มาดู\n",
            "\n",
            "\n",
            "Index: 30\n",
            "Predicted Probabilities: 0.65667695\n",
            "Predicted Class: 2\n",
            "True Class: 1\n",
            "Text: อ๊ะ ไปก็ไป\n",
            "\n",
            "\n"
          ]
        }
      ],
      "source": [
        "incorrect_indices = np.where(predicted_labels != y_test_original)[0]\n",
        "\n",
        "num_to_print = min(20, len(incorrect_indices))\n",
        "\n",
        "for i in range(num_to_print):\n",
        "    index = incorrect_indices[i]\n",
        "    print(\"Index:\", index)\n",
        "    print(\"Predicted Probabilities:\", np.max(predictions[index], axis=0))\n",
        "    print(\"Predicted Class:\", predicted_labels[index])\n",
        "    print(\"True Class:\", y_test_original[index])\n",
        "    print(\"Text:\", test_df['texts'].iloc[index])\n",
        "    print(\"\\n\")\n"
      ]
    },
    {
      "cell_type": "markdown",
      "metadata": {
        "id": "XkvGujIhPhqm"
      },
      "source": [
        "### Most wrongs predicted classes"
      ]
    },
    {
      "cell_type": "markdown",
      "metadata": {
        "id": "mRL5pzPRQzuz"
      },
      "source": [
        "  1. Class 1, which represents neutral sentiment, is the most misclassified.\n",
        "     - This may be due to a higher representation of the neutral class in the dataset.\n",
        "  2. The neutral class is particularly challenging to determine accurately.\n"
      ]
    },
    {
      "cell_type": "code",
      "execution_count": 82,
      "metadata": {
        "colab": {
          "base_uri": "https://localhost:8080/"
        },
        "id": "wtneonawPlfU",
        "outputId": "ec953ad2-7106-4f79-d356-c8048c88985e"
      },
      "outputs": [
        {
          "name": "stdout",
          "output_type": "stream",
          "text": [
            "Predicted Class: 1, Misclassification Count: 600\n",
            "Predicted Class: 0, Misclassification Count: 666\n",
            "Predicted Class: 2, Misclassification Count: 562\n"
          ]
        }
      ],
      "source": [
        "from collections import Counter\n",
        "\n",
        "misclassified_classes_counter = Counter(y_test_original[incorrect_indices])\n",
        "\n",
        "# Find the most frequently misclassified class\n",
        "most_wrong_class, misclassification_count = misclassified_classes_counter.most_common(1)[0]\n",
        "\n",
        "for predicted_class, misclassification_count in misclassified_classes_counter.items():\n",
        "    print(f\"Predicted Class: {predicted_class}, Misclassification Count: {misclassification_count}\")"
      ]
    },
    {
      "cell_type": "markdown",
      "metadata": {
        "id": "JQbREWU6RdgN"
      },
      "source": [
        "### Test model evaluation"
      ]
    },
    {
      "cell_type": "code",
      "execution_count": 83,
      "metadata": {
        "id": "6AfObr7iWLEy"
      },
      "outputs": [],
      "source": [
        "input_text = \"สวัสดีวันนี้วันพฤหัสบดี วันดีๆ\"\n"
      ]
    },
    {
      "cell_type": "code",
      "execution_count": 84,
      "metadata": {
        "colab": {
          "base_uri": "https://localhost:8080/"
        },
        "id": "Vl0S3IhPXc2X",
        "outputId": "f707dac8-4a13-4e4b-9f76-144b56de4a48"
      },
      "outputs": [
        {
          "name": "stdout",
          "output_type": "stream",
          "text": [
            "1/1 [==============================] - 0s 68ms/step\n",
            "Input Text: สวัสดีวันนี้วันพฤหัสบดี วันดีๆ\n",
            "Tokenized Input Sequence: ['สวัสดี', 'วันนี้', 'วัน', 'พฤหัสบดี', ' ', 'วันดี', 'ๆ']\n",
            "Predicted Category, the ground truth label is ['neg' 'neu' 'pos']: 1\n",
            "Predicted Probabilities: 0.52809054\n"
          ]
        }
      ],
      "source": [
        "input_sequence = word_tokenize(input_text)\n",
        "\n",
        "input_indices = [word_index[word] for word in input_sequence if word in word_index]\n",
        "\n",
        "# Pad the sequence\n",
        "padded_input = pad_sequences([input_indices], maxlen=max_length, padding='post')  # Assuming 'post' padding\n",
        "\n",
        "# Make predictions\n",
        "predicted_probabilities = model.predict(padded_input)\n",
        "\n",
        "predicted_label = np.argmax(predicted_probabilities, axis=1)[0]\n",
        "\n",
        "predicted_category = predicted_label\n",
        "\n",
        "print(\"Input Text:\", input_text)\n",
        "print(\"Tokenized Input Sequence:\", input_sequence)\n",
        "print(f\"Predicted Category, the ground truth label is {np.unique(train_df.category)}:\", predicted_category) # class 2 is positve\n",
        "print(\"Predicted Probabilities:\", np.max(predicted_probabilities))"
      ]
    },
    {
      "cell_type": "code",
      "execution_count": 85,
      "metadata": {
        "id": "BKCtlngUUx7x"
      },
      "outputs": [],
      "source": [
        "input_text = \"เมื่อไหร่จะวันศุกร์ ขี้เกียจทำงานน\"\n"
      ]
    },
    {
      "cell_type": "code",
      "execution_count": 86,
      "metadata": {
        "colab": {
          "base_uri": "https://localhost:8080/"
        },
        "id": "FYsTY3wNU8be",
        "outputId": "5af03882-3f2c-4f20-9b22-b62a7800a792"
      },
      "outputs": [
        {
          "name": "stdout",
          "output_type": "stream",
          "text": [
            "1/1 [==============================] - 0s 22ms/step\n",
            "Input Text: เมื่อไหร่จะวันศุกร์ ขี้เกียจทำงานน\n",
            "Tokenized Input Sequence: ['เมื่อไหร่', 'จะ', 'วัน', 'ศุกร์', ' ', 'ขี้เกียจ', 'ทำงาน', 'น']\n",
            "Predicted Category, the ground truth label is ['neg' 'neu' 'pos']: 1\n",
            "Predicted Probabilities: 0.5506363\n"
          ]
        }
      ],
      "source": [
        "input_sequence = word_tokenize(input_text)\n",
        "\n",
        "input_indices = [word_index[word] for word in input_sequence if word in word_index]\n",
        "\n",
        "# Pad the sequence\n",
        "padded_input = pad_sequences([input_indices], maxlen=max_length, padding='post')  # Assuming 'post' padding\n",
        "\n",
        "# Make predictions\n",
        "predicted_probabilities = model.predict(padded_input)\n",
        "\n",
        "predicted_label = np.argmax(predicted_probabilities, axis=1)[0]\n",
        "\n",
        "predicted_category = predicted_label\n",
        "\n",
        "print(\"Input Text:\", input_text)\n",
        "print(\"Tokenized Input Sequence:\", input_sequence)\n",
        "print(f\"Predicted Category, the ground truth label is {np.unique(train_df.category)}:\", predicted_category) # class 2 is positve\n",
        "print(\"Predicted Probabilities:\", np.max(predicted_probabilities))"
      ]
    },
    {
      "cell_type": "code",
      "execution_count": 87,
      "metadata": {
        "id": "nl33J4ZjVE4L"
      },
      "outputs": [],
      "source": [
        "input_text = \"อยากกินขนม\"\n"
      ]
    },
    {
      "cell_type": "code",
      "execution_count": 88,
      "metadata": {
        "colab": {
          "base_uri": "https://localhost:8080/"
        },
        "id": "-DwCR9AwVM_l",
        "outputId": "dd15ccec-3e5f-4344-9ba0-5e10d5f7233f"
      },
      "outputs": [
        {
          "name": "stdout",
          "output_type": "stream",
          "text": [
            "1/1 [==============================] - 0s 24ms/step\n",
            "Input Text: อยากกินขนม\n",
            "Tokenized Input Sequence: ['อยาก', 'กิน', 'ขนม']\n",
            "Predicted Category, the ground truth label is ['neg' 'neu' 'pos']: 1\n",
            "Predicted Probabilities: 0.5330769\n"
          ]
        }
      ],
      "source": [
        "input_sequence = word_tokenize(input_text)\n",
        "\n",
        "input_indices = [word_index[word] for word in input_sequence if word in word_index]\n",
        "\n",
        "# Pad the sequence\n",
        "padded_input = pad_sequences([input_indices], maxlen=max_length, padding='post')  # Assuming 'post' padding\n",
        "\n",
        "# Make predictions\n",
        "predicted_probabilities = model.predict(padded_input)\n",
        "\n",
        "predicted_label = np.argmax(predicted_probabilities, axis=1)[0]\n",
        "\n",
        "predicted_category = predicted_label\n",
        "\n",
        "print(\"Input Text:\", input_text)\n",
        "print(\"Tokenized Input Sequence:\", input_sequence)\n",
        "print(f\"Predicted Category, the ground truth label is {np.unique(train_df.category)}:\", predicted_category) # class 2 is positve\n",
        "print(\"Predicted Probabilities:\", np.max(predicted_probabilities))"
      ]
    },
    {
      "cell_type": "markdown",
      "metadata": {
        "id": "ddFeGgPFRgtI"
      },
      "source": [
        "### Conclusion"
      ]
    },
    {
      "cell_type": "markdown",
      "metadata": {
        "id": "0wr0SogbRgtI"
      },
      "source": [
        "The model shows signs of overfitting due to data ambiguity. To address this, I've adjusted metrics and explored LSTM enhancements, including dropout, early stopping, and regularization. Future plans involve l\n",
        "everaging pre-trained models when resources allow, along with a focus on feature engineering and data augmentation."
      ]
    }
  ],
  "metadata": {
    "accelerator": "GPU",
    "colab": {
      "gpuType": "T4",
      "provenance": []
    },
    "kernelspec": {
      "display_name": "Python 3",
      "name": "python3"
    },
    "language_info": {
      "codemirror_mode": {
        "name": "ipython",
        "version": 3
      },
      "file_extension": ".py",
      "mimetype": "text/x-python",
      "name": "python",
      "nbconvert_exporter": "python",
      "pygments_lexer": "ipython3",
      "version": "3.9.18"
    }
  },
  "nbformat": 4,
  "nbformat_minor": 0
}
